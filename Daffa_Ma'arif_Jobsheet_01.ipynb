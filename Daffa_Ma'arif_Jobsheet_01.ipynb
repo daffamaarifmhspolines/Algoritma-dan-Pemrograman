{
  "nbformat": 4,
  "nbformat_minor": 0,
  "metadata": {
    "colab": {
      "provenance": [],
      "collapsed_sections": [
        "7spm0NytP6aQ",
        "pDoKpdD4SmUV",
        "EUCp_3HST19I",
        "2mHe46VAVXSm",
        "DVDWR7CEZJp2"
      ],
      "authorship_tag": "ABX9TyPNPS3xuYawHKc1N4bqTMTv",
      "include_colab_link": true
    },
    "kernelspec": {
      "name": "python3",
      "display_name": "Python 3"
    },
    "language_info": {
      "name": "python"
    }
  },
  "cells": [
    {
      "cell_type": "markdown",
      "metadata": {
        "id": "view-in-github",
        "colab_type": "text"
      },
      "source": [
        "<a href=\"https://colab.research.google.com/github/daffamaarifmhspolines/Algoritma-dan-Pemrograman/blob/2025-09-18/Daffa_Ma'arif_Jobsheet_01.ipynb\" target=\"_parent\"><img src=\"https://colab.research.google.com/assets/colab-badge.svg\" alt=\"Open In Colab\"/></a>"
      ]
    },
    {
      "cell_type": "markdown",
      "source": [
        "# Praktikum 01. Menghitung Luas Persegi Panjang"
      ],
      "metadata": {
        "id": "7spm0NytP6aQ"
      }
    },
    {
      "cell_type": "code",
      "execution_count": null,
      "metadata": {
        "colab": {
          "base_uri": "https://localhost:8080/"
        },
        "id": "3AP68OrZOdK_",
        "outputId": "390dc75c-b574-45b7-baff-886492c612e8"
      },
      "outputs": [
        {
          "output_type": "stream",
          "name": "stdout",
          "text": [
            "Masukkan panjang: 12\n",
            "Masukka lebar: 8\n",
            "Luas persegi panjang =  96\n"
          ]
        }
      ],
      "source": [
        "p = int(input(\"Masukkan panjang: \"))\n",
        "l = int(input(\"Masukka lebar: \"))\n",
        "luas = p * l\n",
        "print (\"Luas persegi panjang = \", luas)"
      ]
    },
    {
      "cell_type": "markdown",
      "source": [
        "# Praktikum 02. Menghitung Luas Segitiga (Rumus Heron)"
      ],
      "metadata": {
        "id": "pDoKpdD4SmUV"
      }
    },
    {
      "cell_type": "code",
      "source": [
        "import math\n",
        "\n",
        "a = float(input(\"Masukkan sisi a: \"))\n",
        "b = float(input(\"Masukkan sisi b: \"))\n",
        "c = float(input(\"Masukkan sisi c: \"))\n",
        "\n",
        "s = (a + b + c) / 2\n",
        "luas = math.sqrt(s * (s - a) * (s - b) * (s - c))\n",
        "print(\"Luas segitiga = \", luas)"
      ],
      "metadata": {
        "colab": {
          "base_uri": "https://localhost:8080/"
        },
        "id": "CsEdhxvrStMU",
        "outputId": "b04b4182-5084-4bc9-e784-d5c7f4348a4b"
      },
      "execution_count": null,
      "outputs": [
        {
          "output_type": "stream",
          "name": "stdout",
          "text": [
            "Masukkan sisi a: 24\n",
            "Masukkan sisi b: 20\n",
            "Masukkan sisi c: 18\n",
            "Luas segitiga =  176.1561807033747\n"
          ]
        }
      ]
    },
    {
      "cell_type": "markdown",
      "source": [
        "# Praktikum 03. Konversi Suhu Celcius ke Fahrenheit"
      ],
      "metadata": {
        "id": "EUCp_3HST19I"
      }
    },
    {
      "cell_type": "code",
      "source": [
        "c = float(input(\"Masukkan suhu (°C): \"))\n",
        "f = (c * 9/5) + 32\n",
        "print(\"Hasil konversi = \", f, \"°F\")"
      ],
      "metadata": {
        "colab": {
          "base_uri": "https://localhost:8080/"
        },
        "id": "KSI_h3P7T5gN",
        "outputId": "c02bf6c3-2f36-4f4e-aa55-2704ff664f7c"
      },
      "execution_count": null,
      "outputs": [
        {
          "output_type": "stream",
          "name": "stdout",
          "text": [
            "Masukkan suhu (°C): 32\n",
            "Hasil konversi =  89.6 °F\n"
          ]
        }
      ]
    },
    {
      "cell_type": "markdown",
      "source": [
        "# Praktikum 04. Menghitung Umur Berdasarkan Tahun Lahir"
      ],
      "metadata": {
        "id": "2mHe46VAVXSm"
      }
    },
    {
      "cell_type": "code",
      "source": [
        "tahun_lahir = int(input(\"Masukkan tahun lahir: \"))\n",
        "tahun_sekarang = 2025\n",
        "umur = tahun_sekarang - tahun_lahir\n",
        "print(\"Umur anda = \", umur, \"tahun\")"
      ],
      "metadata": {
        "colab": {
          "base_uri": "https://localhost:8080/"
        },
        "id": "T7NpapEMVbR7",
        "outputId": "d911eb04-1412-4215-84f2-b56fbf3f8770"
      },
      "execution_count": null,
      "outputs": [
        {
          "output_type": "stream",
          "name": "stdout",
          "text": [
            "Masukkan tahun lahir: 2007\n",
            "Umur anda =  18 tahun\n"
          ]
        }
      ]
    },
    {
      "cell_type": "markdown",
      "source": [
        "# Praktikum 05. Menghitung Luas Lingkaran"
      ],
      "metadata": {
        "id": "DVDWR7CEZJp2"
      }
    },
    {
      "cell_type": "code",
      "source": [
        "import math\n",
        "r = float(input(\"Masukkan jari-jari lingkaran: \"))\n",
        "luas = math.pi * r * r\n",
        "print(\"Luas lingkaran = \", luas)"
      ],
      "metadata": {
        "colab": {
          "base_uri": "https://localhost:8080/"
        },
        "id": "2ty0o91jZMiH",
        "outputId": "89b1c5be-f286-46d4-f431-42fb25e4ec11"
      },
      "execution_count": null,
      "outputs": [
        {
          "output_type": "stream",
          "name": "stdout",
          "text": [
            "Masukkan jari-jari lingkaran: 7\n",
            "Luas lingkaran =  153.93804002589985\n"
          ]
        }
      ]
    },
    {
      "cell_type": "markdown",
      "source": [
        "# Praktikum 06. Menjumlahkan Tiga Bilangan"
      ],
      "metadata": {
        "id": "NuGAgRoXoFG9"
      }
    },
    {
      "cell_type": "code",
      "source": [
        "a = float(input(\"Masukkan bilangan a: \"))\n",
        "b = float(input(\"Masukkan bilangan b: \"))\n",
        "c = float(input(\"Masukkan bilangan c: \"))\n",
        "jumlah = a + b + c\n",
        "print(\"jumlah = \", jumlah)"
      ],
      "metadata": {
        "colab": {
          "base_uri": "https://localhost:8080/"
        },
        "id": "A1WnSiA9oH9B",
        "outputId": "b6f0b3e2-d9b7-4892-b82d-4556f0a5a278"
      },
      "execution_count": null,
      "outputs": [
        {
          "output_type": "stream",
          "name": "stdout",
          "text": [
            "Masukkan bilangan a: 5\n",
            "Masukkan bilangan b: 6\n",
            "Masukkan bilangan c: 7\n",
            "jumlah =  18.0\n"
          ]
        }
      ]
    },
    {
      "cell_type": "markdown",
      "source": [
        "# Penugasan 01. Menghitung Volume Balok"
      ],
      "metadata": {
        "id": "z-A5pmJWsUGQ"
      }
    },
    {
      "cell_type": "code",
      "source": [
        "\n",
        "p = float(input(\"Masukkan Panjang: \"))\n",
        "l = float(input(\"Masukkan Lebar: \"))\n",
        "t = float(input(\"Masukkan Tinggi: \"))\n",
        "\n",
        "V = p * l * t\n",
        "\n",
        "print(\"Volume =\", V)"
      ],
      "metadata": {
        "colab": {
          "base_uri": "https://localhost:8080/"
        },
        "id": "IWTbMXFWsb34",
        "outputId": "edef6727-5e98-4543-edb9-61a7a77313ee"
      },
      "execution_count": null,
      "outputs": [
        {
          "output_type": "stream",
          "name": "stdout",
          "text": [
            "Masukkan Panjang: 13\n",
            "Masukkan Lebar: 5\n",
            "Masukkan Tinggi: 6\n",
            "Volume = 390.0\n"
          ]
        }
      ]
    },
    {
      "cell_type": "markdown",
      "source": [
        "# Penugasan 02. Konversi Waktu (Detik ke Jam:Menit:Detik)"
      ],
      "metadata": {
        "id": "IVtnCMFFuv0D"
      }
    },
    {
      "cell_type": "code",
      "source": [
        "td = int(input(\"Masukkan total waktu dalam detik: \"))\n",
        "j = td // 3600\n",
        "sd = td % 3600\n",
        "m = sd // 60\n",
        "d = sd % 60\n",
        "print(f\"{td} detik sama dengan:\")\n",
        "print(f\"{j} jam, {m} menit, {d} detik\")"
      ],
      "metadata": {
        "colab": {
          "base_uri": "https://localhost:8080/"
        },
        "id": "i62pebTXu2Xm",
        "outputId": "2a2937d3-57e3-4a21-cd43-5758e3e560c0"
      },
      "execution_count": null,
      "outputs": [
        {
          "output_type": "stream",
          "name": "stdout",
          "text": [
            "Masukkan total waktu dalam detik: 3670\n",
            "3670 detik sama dengan:\n",
            "1 jam, 1 menit, 10 detik\n"
          ]
        }
      ]
    },
    {
      "cell_type": "markdown",
      "source": [
        "# Penugasan 03. Rata-rata Nilai Tiga Mata Kuliah"
      ],
      "metadata": {
        "id": "GffgHg7v3JAw"
      }
    },
    {
      "cell_type": "code",
      "source": [
        "nilai = int(input(\"Masukkan rata-rata nilai anda: \"))\n",
        "if nilai >= 60:\n",
        "    print(\"Selamat, anda lulus!\")\n",
        "else:\n",
        "    print(\"Maaf, anda tidak lulus\")"
      ],
      "metadata": {
        "colab": {
          "base_uri": "https://localhost:8080/"
        },
        "id": "XSLDDPFk3QTW",
        "outputId": "d52fdb34-dd54-4910-9d41-5192c30667d6"
      },
      "execution_count": null,
      "outputs": [
        {
          "output_type": "stream",
          "name": "stdout",
          "text": [
            "Masukkan rata-rata nilai anda: 60\n",
            "Selamat, anda lulus!\n"
          ]
        }
      ]
    },
    {
      "cell_type": "markdown",
      "source": [
        "# Penugasan 04. Menghitung Diskon Belanja"
      ],
      "metadata": {
        "id": "2Eslufabm9Ww"
      }
    },
    {
      "cell_type": "code",
      "source": [
        "tb = int(input(\"Masukkan harga total belanjaan anda: \"))\n",
        "if tb >= 500000:\n",
        "  th = tb * 80/100\n",
        "elif tb >= 250000:\n",
        "  th = tb * 90/100\n",
        "else:\n",
        "  th = tb\n",
        "print(\"Total yang harus anda bayar =\", th)"
      ],
      "metadata": {
        "colab": {
          "base_uri": "https://localhost:8080/"
        },
        "id": "w-EHcUYanOYN",
        "outputId": "fcb60371-0037-4264-fb0a-a4b809ec309b"
      },
      "execution_count": null,
      "outputs": [
        {
          "output_type": "stream",
          "name": "stdout",
          "text": [
            "Masukkan harga total belanjaan anda: 500000\n",
            "Total yang harus anda bayar = 400000.0\n"
          ]
        }
      ]
    }
  ]
}