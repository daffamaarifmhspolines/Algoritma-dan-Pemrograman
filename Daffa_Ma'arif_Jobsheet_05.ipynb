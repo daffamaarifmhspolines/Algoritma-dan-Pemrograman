{
  "nbformat": 4,
  "nbformat_minor": 0,
  "metadata": {
    "colab": {
      "provenance": [],
      "include_colab_link": true
    },
    "kernelspec": {
      "name": "python3",
      "display_name": "Python 3"
    },
    "language_info": {
      "name": "python"
    }
  },
  "cells": [
    {
      "cell_type": "markdown",
      "metadata": {
        "id": "view-in-github",
        "colab_type": "text"
      },
      "source": [
        "<a href=\"https://colab.research.google.com/github/daffamaarifmhspolines/Algoritma-dan-Pemrograman/blob/2025-10-23/Daffa_Ma'arif_Jobsheet_05.ipynb\" target=\"_parent\"><img src=\"https://colab.research.google.com/assets/colab-badge.svg\" alt=\"Open In Colab\"/></a>"
      ]
    },
    {
      "cell_type": "markdown",
      "source": [
        "#Praktikum 01 - Indexing dan Slicing"
      ],
      "metadata": {
        "id": "A1_IndexingSlicing"
      }
    },
    {
      "cell_type": "code",
      "execution_count": 1,
      "metadata": {
        "colab": {
          "base_uri": "https://localhost:8080/"
        },
        "id": "A1_Code",
        "outputId": "9811414e-f908-43e3-a062-52092ef1c8ce"
      },
      "outputs": [
        {
          "output_type": "stream",
          "name": "stdout",
          "text": [
            "P\n",
            "Politeknik\n",
            "Semarang\n"
          ]
        }
      ],
      "source": [
        "teks = \"Politeknik Negeri Semarang\"\n",
        "print(teks[0])\n",
        "print(teks[0:10])\n",
        "print(teks[-8:])"
      ]
    },
    {
      "cell_type": "markdown",
      "source": [
        "#Praktikum 02 - Method Bawaan String"
      ],
      "metadata": {
        "id": "A2_MethodBawaan"
      }
    },
    {
      "cell_type": "code",
      "source": [
        "teks = \" Politeknik Negeri Semarang \"\n",
        "print(teks.upper())\n",
        "print(teks.lower())\n",
        "print(teks.title())\n",
        "print(teks.strip())\n",
        "print(teks.split(\" \"))\n",
        "print(\"-\".join([\"Politeknik\", \"Negeri\", \"Semarang\"]))"
      ],
      "metadata": {
        "colab": {
          "base_uri": "https://localhost:8080/"
        },
        "id": "A2_Code",
        "outputId": "52a7e22d-de4b-40e5-c50b-a03987bdddca"
      },
      "execution_count": 2,
      "outputs": [
        {
          "output_type": "stream",
          "name": "stdout",
          "text": [
            " POLITEKNIK NEGERI SEMARANG \n",
            " politeknik negeri semarang \n",
            " Politeknik Negeri Semarang \n",
            "Politeknik Negeri Semarang\n",
            "['', 'Politeknik', 'Negeri', 'Semarang', '']\n",
            "Politeknik-Negeri-Semarang\n"
          ]
        }
      ]
    },
    {
      "cell_type": "markdown",
      "source": [
        "#Praktikum 03 - Validasi Password"
      ],
      "metadata": {
        "id": "A3_ValidasiPassword"
      }
    },
    {
      "cell_type": "code",
      "source": [
        "password = input(\"Masukkan password: \")\n",
        "if len(password) >= 8:\n",
        "  print(\"Password valid\")\n",
        "else:\n",
        "  print(\"Password terlalu pendek\")"
      ],
      "metadata": {
        "colab": {
          "base_uri": "https://localhost:8080/"
        },
        "id": "A3_Code",
        "outputId": "075629b8-e9f6-4da6-9370-fd49a52d046a"
      },
      "execution_count": 4,
      "outputs": [
        {
          "output_type": "stream",
          "name": "stdout",
          "text": [
            "Masukkan password: abc\n",
            "Password terlalu pendek\n"
          ]
        }
      ]
    },
    {
      "cell_type": "markdown",
      "source": [
        "#Praktikum 04 - String Formatting dengan F-String"
      ],
      "metadata": {
        "id": "A4_FString"
      }
    },
    {
      "cell_type": "code",
      "source": [
        "nama = input(\"Masukkan nama: \")\n",
        "umur = int(input(\"Masukkan umur: \"))\n",
        "print(f\"Nama saya {nama}, umur {umur} tahun.\")"
      ],
      "metadata": {
        "colab": {
          "base_uri": "https://localhost:8080/"
        },
        "id": "A4_Code",
        "outputId": "73a61526-89af-47d5-ee1d-78bafdf5bb04"
      },
      "execution_count": 5,
      "outputs": [
        {
          "output_type": "stream",
          "name": "stdout",
          "text": [
            "Masukkan nama: Budi\n",
            "Masukkan umur: 21\n",
            "Nama saya Budi, umur 21 tahun.\n"
          ]
        }
      ]
    },
    {
      "cell_type": "markdown",
      "source": [
        "#Praktikum 05 - Operasi dalam F-String"
      ],
      "metadata": {
        "id": "A5_OperasiFString"
      }
    },
    {
      "cell_type": "code",
      "source": [
        "a = int(input(\"Masukkan nilai a: \"))\n",
        "b = int(input(\"Masukkan nilai b: \"))\n",
        "print(f\"Hasil penjumlahan {a} + {b} = {a+b}\")\n",
        "print(f\"Hasil pembagian {a} / {b} = {a/b:.2f}\")"
      ],
      "metadata": {
        "colab": {
          "base_uri": "https://localhost:8080/"
        },
        "id": "A5_Code",
        "outputId": "65ca3e8b-b685-4249-fd0a-16ade0519963"
      },
      "execution_count": 7,
      "outputs": [
        {
          "output_type": "stream",
          "name": "stdout",
          "text": [
            "Masukkan nilai a: 10\n",
            "Masukkan nilai b: 3\n",
            "Hasil penjumlahan 10 + 3 = 13\n",
            "Hasil pembagian 10 / 3 = 3.33\n"
          ]
        }
      ]
    },
    {
      "cell_type": "markdown",
      "source": [
        "#Praktikum 06 - Casting String"
      ],
      "metadata": {
        "id": "A6_Casting"
      }
    },
    {
      "cell_type": "code",
      "source": [
        "angka = 123\n",
        "teks = \"456\"\n",
        "print(\"Nilai: \" + str(angka))\n",
        "print(int(teks) + 10)"
      ],
      "metadata": {
        "colab": {
          "base_uri": "https://localhost:8080/"
        },
        "id": "A6_Code",
        "outputId": "e3269773-e41f-4b1d-8d05-85fa7fbb4a9c"
      },
      "execution_count": 8,
      "outputs": [
        {
          "output_type": "stream",
          "name": "stdout",
          "text": [
            "Nilai: 123\n",
            "466\n"
          ]
        }
      ]
    },
    {
      "cell_type": "markdown",
      "source": [
        "#Praktikum 07 - Studi Kasus Nyata: Analisis Kalimat"
      ],
      "metadata": {
        "id": "A7_StudiKasus"
      }
    },
    {
      "cell_type": "code",
      "source": [
        "kalimat = \"Saya kuliah di Politeknik Negeri Semarang\"\n",
        "daftar_kata = kalimat.split()\n",
        "print(f\"Jumlah kata: {len(daftar_kata)}\")\n",
        "for i, kata in enumerate(daftar_kata, start=1):\n",
        "  print(i, kata)"
      ],
      "metadata": {
        "colab": {
          "base_uri": "https://localhost:8080/"
        },
        "id": "A7_Code",
        "outputId": "91967e3c-8574-43fc-b932-623014a90197"
      },
      "execution_count": 9,
      "outputs": [
        {
          "output_type": "stream",
          "name": "stdout",
          "text": [
            "Jumlah kata: 6\n",
            "1 Saya\n",
            "2 kuliah\n",
            "3 di\n",
            "4 Politeknik\n",
            "5 Negeri\n",
            "6 Semarang\n"
          ]
        }
      ]
    },
    {
      "cell_type": "markdown",
      "source": [
        "#Penugasan 01 - Indexing dan Slicing"
      ],
      "metadata": {
        "id": "P03_IndexingSlicing"
      }
    },
    {
      "cell_type": "code",
      "source": [
        "teks = \"Politeknik Negeri Semarang\"\n",
        "print(f\"Huruf pertama: {teks[0]}\")\n",
        "print(f\"Huruf terakhir: {teks[-1]}\")\n",
        "print(f\"Kata 'Negeri': {teks[11:17]}\")"
      ],
      "metadata": {
        "id": "P03_Code",
        "colab": {
          "base_uri": "https://localhost:8080/"
        },
        "outputId": "c4d65eb5-0c75-4189-9700-b92b57fa55de"
      },
      "execution_count": 10,
      "outputs": [
        {
          "output_type": "stream",
          "name": "stdout",
          "text": [
            "Huruf pertama: P\n",
            "Huruf terakhir: g\n",
            "Kata 'Negeri': Negeri\n"
          ]
        }
      ]
    },
    {
      "cell_type": "markdown",
      "source": [
        "#Penugasan 02 - Manipulasi String"
      ],
      "metadata": {
        "id": "P04_Manipulasi"
      }
    },
    {
      "cell_type": "code",
      "source": [
        "kalimat = input(\"Masukkan sebuah kalimat: \")\n",
        "print(f\"Kapital: {kalimat.upper()}\")\n",
        "print(f\"Kecil: {kalimat.lower()}\")\n",
        "print(f\"Panjang: {len(kalimat)}\")"
      ],
      "metadata": {
        "id": "P04_Code",
        "colab": {
          "base_uri": "https://localhost:8080/"
        },
        "outputId": "87be6621-c8af-421a-a277-da2f31354d3a"
      },
      "execution_count": 11,
      "outputs": [
        {
          "output_type": "stream",
          "name": "stdout",
          "text": [
            "Masukkan sebuah kalimat: Saya belajar Pyhton\n",
            "Kapital: SAYA BELAJAR PYHTON\n",
            "Kecil: saya belajar pyhton\n",
            "Panjang: 19\n"
          ]
        }
      ]
    },
    {
      "cell_type": "markdown",
      "source": [
        "#Penugasan 03 - Validasi Username"
      ],
      "metadata": {
        "id": "P05_Validasi"
      }
    },
    {
      "cell_type": "code",
      "source": [
        "username = input(\"Masukkan username: \")\n",
        "if \" \" in username:\n",
        "  print(\"Error: Username tidak boleh mengandung spasi.\")\n",
        "else:\n",
        "  print(\"Username valid.\")"
      ],
      "metadata": {
        "id": "P05_Code",
        "colab": {
          "base_uri": "https://localhost:8080/"
        },
        "outputId": "c3085575-1e12-4ed1-ddbd-04d1ce1aa2cf"
      },
      "execution_count": 13,
      "outputs": [
        {
          "output_type": "stream",
          "name": "stdout",
          "text": [
            "Masukkan username: DaffaMaarif\n",
            "Username valid.\n"
          ]
        }
      ]
    },
    {
      "cell_type": "markdown",
      "source": [
        "#Penugasan 04 - String Formatting dengan F-String"
      ],
      "metadata": {
        "id": "P06_Formatting"
      }
    },
    {
      "cell_type": "code",
      "source": [
        "nama = input(\"Masukkan nama: \")\n",
        "umur = input(\"Masukkan umur: \")\n",
        "jurusan = input(\"Masukkan jurusan: \")\n",
        "\n",
        "print(\"\\n--- Biodata ---\")\n",
        "print(f\"Nama: {nama}\")\n",
        "print(f\"Umur: {umur}\")\n",
        "print(f\"Jurusan: {jurusan}\")"
      ],
      "metadata": {
        "id": "P06_Code",
        "colab": {
          "base_uri": "https://localhost:8080/"
        },
        "outputId": "55e1f352-d11c-4818-be93-abbadc4b0255"
      },
      "execution_count": 14,
      "outputs": [
        {
          "output_type": "stream",
          "name": "stdout",
          "text": [
            "Masukkan nama: Andi\n",
            "Masukkan umur: 20\n",
            "Masukkan jurusan: Teknologi Rekayasa Komputer\n",
            "\n",
            "--- Biodata ---\n",
            "Nama: Andi\n",
            "Umur: 20\n",
            "Jurusan: Teknologi Rekayasa Komputer\n"
          ]
        }
      ]
    },
    {
      "cell_type": "markdown",
      "source": [
        "#Penugasan 05 - Operasi dalam F-String"
      ],
      "metadata": {
        "id": "P07_Operasi"
      }
    },
    {
      "cell_type": "code",
      "source": [
        "a = float(input(\"Masukkan bilangan pertama: \"))\n",
        "b = float(input(\"Masukkan bilangan kedua: \"))\n",
        "\n",
        "print(f\"Penjumlahan: {a} + {b} = {a + b}\")\n",
        "print(f\"Perkalian: {a} * {b} = {a * b}\")\n",
        "print(f\"Pembagian: {a} / {b} = {a / b:.3f}\")"
      ],
      "metadata": {
        "id": "P07_Code",
        "colab": {
          "base_uri": "https://localhost:8080/"
        },
        "outputId": "5f7bb46d-8e76-40d4-f54d-049939db2d2e"
      },
      "execution_count": 15,
      "outputs": [
        {
          "output_type": "stream",
          "name": "stdout",
          "text": [
            "Masukkan bilangan pertama: 420\n",
            "Masukkan bilangan kedua: 69\n",
            "Penjumlahan: 420.0 + 69.0 = 489.0\n",
            "Perkalian: 420.0 * 69.0 = 28980.0\n",
            "Pembagian: 420.0 / 69.0 = 6.087\n"
          ]
        }
      ]
    },
    {
      "cell_type": "markdown",
      "source": [
        "#Penugasan 06 - Casting Data"
      ],
      "metadata": {
        "id": "P08_Casting"
      }
    },
    {
      "cell_type": "code",
      "source": [
        "angka_str = input(\"Masukkan sebuah angka: \")\n",
        "\n",
        "# Casting ke integer\n",
        "angka_int = int(angka_str)\n",
        "print(f\"Kuadrat (int): {angka_int ** 2}\")\n",
        "\n",
        "# Casting ke float\n",
        "angka_float = float(angka_str)\n",
        "print(f\"Tampil (float): {angka_float:.2f}\")"
      ],
      "metadata": {
        "id": "P08_Code",
        "colab": {
          "base_uri": "https://localhost:8080/"
        },
        "outputId": "def32404-7141-4801-a332-55feed47c3b7"
      },
      "execution_count": 16,
      "outputs": [
        {
          "output_type": "stream",
          "name": "stdout",
          "text": [
            "Masukkan sebuah angka: 6\n",
            "Kuadrat (int): 36\n",
            "Tampil (float): 6.00\n"
          ]
        }
      ]
    },
    {
      "cell_type": "markdown",
      "source": [
        "#Penugasan 07 - Studi Kasus - Analisis Teks"
      ],
      "metadata": {
        "id": "P09_Analisis"
      }
    },
    {
      "cell_type": "code",
      "source": [
        "kalimat = input(\"Masukkan sebuah kalimat: \")\n",
        "\n",
        "kata_kata = kalimat.split()\n",
        "\n",
        "print(f\"Jumlah kata: {len(kata_kata)}\")\n",
        "\n",
        "kata_terpanjang = \"\"\n",
        "for kata in kata_kata:\n",
        "  if len(kata) > len(kata_terpanjang):\n",
        "    kata_terpanjang = kata\n",
        "print(f\"Kata terpanjang: {kata_terpanjang}\")\n",
        "\n",
        "kata_kata.sort()\n",
        "print(\"Urutan kata (abjad):\")\n",
        "print(kata_kata)"
      ],
      "metadata": {
        "id": "P09_Code",
        "colab": {
          "base_uri": "https://localhost:8080/"
        },
        "outputId": "e95adc8c-0348-428d-e0ca-201ce1263348"
      },
      "execution_count": 19,
      "outputs": [
        {
          "output_type": "stream",
          "name": "stdout",
          "text": [
            "Masukkan sebuah kalimat: Python gigit saya\n",
            "Jumlah kata: 3\n",
            "Kata terpanjang: Python\n",
            "Urutan kata (abjad):\n",
            "['Python', 'gigit', 'saya']\n"
          ]
        }
      ]
    }
  ]
}