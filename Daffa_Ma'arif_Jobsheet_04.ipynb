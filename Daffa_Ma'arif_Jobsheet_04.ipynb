{
  "nbformat": 4,
  "nbformat_minor": 0,
  "metadata": {
    "colab": {
      "provenance": [],
      "authorship_tag": "ABX9TyNQtECurou2GXbRecCKhfVG",
      "include_colab_link": true
    },
    "kernelspec": {
      "name": "python3",
      "display_name": "Python 3"
    },
    "language_info": {
      "name": "python"
    }
  },
  "cells": [
    {
      "cell_type": "markdown",
      "metadata": {
        "id": "view-in-github",
        "colab_type": "text"
      },
      "source": [
        "<a href=\"https://colab.research.google.com/github/daffamaarifmhspolines/Algoritma-dan-Pemrograman/blob/2025-10-23/Daffa_Ma'arif_Jobsheet_04.ipynb\" target=\"_parent\"><img src=\"https://colab.research.google.com/assets/colab-badge.svg\" alt=\"Open In Colab\"/></a>"
      ]
    },
    {
      "cell_type": "markdown",
      "source": [
        "#Praktikum 01 – Perulangan For dengan Range"
      ],
      "metadata": {
        "id": "_q-juYDeyhFh"
      }
    },
    {
      "cell_type": "code",
      "execution_count": null,
      "metadata": {
        "colab": {
          "base_uri": "https://localhost:8080/"
        },
        "id": "5ToLc83vycXA",
        "outputId": "95d9a858-b1a1-452f-d471-449e89c3c47c"
      },
      "outputs": [
        {
          "output_type": "stream",
          "name": "stdout",
          "text": [
            "1\n",
            "2\n",
            "3\n",
            "4\n",
            "5\n"
          ]
        }
      ],
      "source": [
        "for i in range(1, 6):\n",
        "  print(i)"
      ]
    },
    {
      "cell_type": "markdown",
      "source": [
        "#Praktikum 02 – Perulangan While"
      ],
      "metadata": {
        "id": "wsVk7kuFyj6s"
      }
    },
    {
      "cell_type": "code",
      "source": [
        "n = int(input(\"Masukkan angka: \"))\n",
        "while n > 0:\n",
        "  print(n)\n",
        "  n -= 1"
      ],
      "metadata": {
        "colab": {
          "base_uri": "https://localhost:8080/"
        },
        "id": "Hg_0vG93ykLR",
        "outputId": "12d74980-045d-46a6-ea6e-52a691d18445"
      },
      "execution_count": 1,
      "outputs": [
        {
          "output_type": "stream",
          "name": "stdout",
          "text": [
            "Masukkan angka: 5\n",
            "5\n",
            "4\n",
            "3\n",
            "2\n",
            "1\n"
          ]
        }
      ]
    },
    {
      "cell_type": "markdown",
      "source": [
        "#Praktikum 03 – Nested Loop (Segitiga Bintang)"
      ],
      "metadata": {
        "id": "GZR_38Q9yki4"
      }
    },
    {
      "cell_type": "code",
      "source": [
        "for i in range(1, 6):\n",
        "  for j in range(i):\n",
        "    print(\"*\", end=\"\")\n",
        "  print()"
      ],
      "metadata": {
        "colab": {
          "base_uri": "https://localhost:8080/"
        },
        "id": "Z_4fhKOQyk1d",
        "outputId": "75f5a2d6-c8d0-49a9-e6e8-35b1a1ec1488"
      },
      "execution_count": null,
      "outputs": [
        {
          "output_type": "stream",
          "name": "stdout",
          "text": [
            "*\n",
            "**\n",
            "***\n",
            "****\n",
            "*****\n"
          ]
        }
      ]
    },
    {
      "cell_type": "markdown",
      "source": [
        "#Praktikum 04 – Break dan Continue"
      ],
      "metadata": {
        "id": "SxCUeYnxylTm"
      }
    },
    {
      "cell_type": "code",
      "source": [
        "for i in range(1, 11):\n",
        "  print(i)\n",
        "  if i == 5:\n",
        "    print(\"Angka 5 ditemukan\")\n",
        "    break"
      ],
      "metadata": {
        "colab": {
          "base_uri": "https://localhost:8080/"
        },
        "id": "dpElDZ7Uyllj",
        "outputId": "20864dd2-354b-4e70-f592-a353f0e56a3e"
      },
      "execution_count": 5,
      "outputs": [
        {
          "output_type": "stream",
          "name": "stdout",
          "text": [
            "1\n",
            "2\n",
            "3\n",
            "4\n",
            "5\n",
            "Angka 5 ditemukan\n"
          ]
        }
      ]
    },
    {
      "cell_type": "code",
      "source": [
        "for i in range(1, 6):\n",
        "  if i % 2 == 1:\n",
        "    continue\n",
        "  print(i)"
      ],
      "metadata": {
        "colab": {
          "base_uri": "https://localhost:8080/"
        },
        "id": "cykrPbfe1zGa",
        "outputId": "2eb0d4a3-0614-469d-c748-0d78811c27c2"
      },
      "execution_count": 6,
      "outputs": [
        {
          "output_type": "stream",
          "name": "stdout",
          "text": [
            "2\n",
            "4\n"
          ]
        }
      ]
    },
    {
      "cell_type": "markdown",
      "source": [
        "#Praktikum 05 – For pada Dictionary"
      ],
      "metadata": {
        "id": "D9BeAvYjylze"
      }
    },
    {
      "cell_type": "code",
      "source": [
        "data = {\"Nama\": \"Andi\", \"Umur\": 20, \"Prodi\": \"TRK\"}\n",
        "\n",
        "for k, v in data.items():\n",
        "  print(k, \":\", v)"
      ],
      "metadata": {
        "colab": {
          "base_uri": "https://localhost:8080/"
        },
        "id": "KySA_R2TymDx",
        "outputId": "8ba7abca-4f85-4b42-a36e-31c4aa686170"
      },
      "execution_count": 7,
      "outputs": [
        {
          "output_type": "stream",
          "name": "stdout",
          "text": [
            "Nama : Andi\n",
            "Umur : 20\n",
            "Prodi : TRK\n"
          ]
        }
      ]
    },
    {
      "cell_type": "markdown",
      "source": [
        "#Praktikum 06 – For dengan Enumerate"
      ],
      "metadata": {
        "id": "3nHYttESymOh"
      }
    },
    {
      "cell_type": "code",
      "source": [
        "daftar = [\"Andi\", \"Budi\", \"Cici\"]\n",
        "\n",
        "for i, nama in enumerate(daftar, start=1):\n",
        "  print(i, nama)"
      ],
      "metadata": {
        "colab": {
          "base_uri": "https://localhost:8080/"
        },
        "id": "bUjEfU1_ymoQ",
        "outputId": "adba00e4-b9bb-4db3-eb8f-53f8d079cb03"
      },
      "execution_count": 8,
      "outputs": [
        {
          "output_type": "stream",
          "name": "stdout",
          "text": [
            "1 Andi\n",
            "2 Budi\n",
            "3 Cici\n"
          ]
        }
      ]
    },
    {
      "cell_type": "markdown",
      "source": [
        "#Praktikum 07 – Studi Kasus: Program Kasir Multi-Item"
      ],
      "metadata": {
        "id": "ZlP4knPcynEC"
      }
    },
    {
      "cell_type": "code",
      "source": [
        "total = 0\n",
        "\n",
        "while True:\n",
        "  barang = input(\"Masukkan nama barang (ketik 'selesai' untuk berhenti): \")\n",
        "  if barang.lower() == \"selesai\":\n",
        "    break\n",
        "  harga = float(input(f\"Masukkan harga {barang}: \"))\n",
        "  jumlah = int(input(f\"Masukkan jumlah {barang}: \"))\n",
        "  subtotal = harga * jumlah\n",
        "  total += subtotal\n",
        "\n",
        "print(\"\\n===== Struk Belanja =====\")\n",
        "print(f\"Total Belanja : Rp {total}\")"
      ],
      "metadata": {
        "colab": {
          "base_uri": "https://localhost:8080/"
        },
        "id": "W_67kRhlynS9",
        "outputId": "09045c40-958e-4679-e70c-7e36c071168d"
      },
      "execution_count": 9,
      "outputs": [
        {
          "output_type": "stream",
          "name": "stdout",
          "text": [
            "Masukkan nama barang (ketik 'selesai' untuk berhenti): Buku\n",
            "Masukkan harga Buku: 50000\n",
            "Masukkan jumlah Buku: 2\n",
            "Masukkan nama barang (ketik 'selesai' untuk berhenti): Pulpen\n",
            "Masukkan harga Pulpen: 5000\n",
            "Masukkan jumlah Pulpen: 3\n",
            "Masukkan nama barang (ketik 'selesai' untuk berhenti): selesai\n",
            "\n",
            "===== Struk Belanja =====\n",
            "Total Belanja : Rp 115000.0\n"
          ]
        }
      ]
    },
    {
      "cell_type": "markdown",
      "source": [
        "#Penugasan 01 - Menampilkan Deret Angka"
      ],
      "metadata": {
        "id": "9t7xBnxyynmY"
      }
    },
    {
      "cell_type": "code",
      "source": [
        "for i in range(3, 31, 3):\n",
        "  print(i)"
      ],
      "metadata": {
        "colab": {
          "base_uri": "https://localhost:8080/"
        },
        "id": "8bRtlrNnyn3E",
        "outputId": "d1119a95-76a5-408b-8f6d-5fe254594261"
      },
      "execution_count": null,
      "outputs": [
        {
          "output_type": "stream",
          "name": "stdout",
          "text": [
            "3\n",
            "6\n",
            "9\n",
            "12\n",
            "15\n",
            "18\n",
            "21\n",
            "24\n",
            "27\n",
            "30\n"
          ]
        }
      ]
    },
    {
      "cell_type": "markdown",
      "source": [
        "#Penugasan 02 - Hitung Faktorial"
      ],
      "metadata": {
        "id": "3Rf-2o9KyoNE"
      }
    },
    {
      "cell_type": "code",
      "source": [
        "angka = int(input(\"Masukkan angka untuk menghitung faktorial: \"))\n",
        "faktorial = 1\n",
        "i = 1\n",
        "\n",
        "while i <= angka:\n",
        "  faktorial *= i\n",
        "  i += 1\n",
        "\n",
        "print(f\"Faktorial dari {angka} adalah {faktorial}\")"
      ],
      "metadata": {
        "id": "0QOEIlrUyoen",
        "colab": {
          "base_uri": "https://localhost:8080/"
        },
        "outputId": "2ee8ae71-9f37-4a8f-d880-2ec489034a73"
      },
      "execution_count": 10,
      "outputs": [
        {
          "output_type": "stream",
          "name": "stdout",
          "text": [
            "Masukkan angka untuk menghitung faktorial: 5\n",
            "Faktorial dari 5 adalah 120\n"
          ]
        }
      ]
    },
    {
      "cell_type": "markdown",
      "source": [
        "#Penugasan 03 - Pola Segitiga Terbalik"
      ],
      "metadata": {
        "id": "jLZdcZ4cyosy"
      }
    },
    {
      "cell_type": "code",
      "source": [
        "baris = 5\n",
        "for i in range(baris, 0, -1):\n",
        "  for j in range(i):\n",
        "    print(\"*\", end=\"\")\n",
        "  print()"
      ],
      "metadata": {
        "colab": {
          "base_uri": "https://localhost:8080/"
        },
        "id": "ZOB-pc1byo_S",
        "outputId": "1a37feb0-7d60-42c8-e145-0ef49a5989b0"
      },
      "execution_count": 11,
      "outputs": [
        {
          "output_type": "stream",
          "name": "stdout",
          "text": [
            "*****\n",
            "****\n",
            "***\n",
            "**\n",
            "*\n"
          ]
        }
      ]
    },
    {
      "cell_type": "markdown",
      "source": [
        "#Penugasan 04 - Cari Bilangan Prima dengan Break"
      ],
      "metadata": {
        "id": "G_MrUfOIypL9"
      }
    },
    {
      "cell_type": "code",
      "source": [
        "angka = int(input(\"Masukkan angka untuk memeriksa apakah prima: \"))\n",
        "\n",
        "if angka <= 1:\n",
        "  is_prima = False\n",
        "elif angka == 2:\n",
        "  is_prima = True\n",
        "else:\n",
        "  is_prima = True\n",
        "  for i in range(2, int(angka**0.5) + 1):\n",
        "    if angka % i == 0:\n",
        "      is_prima = False\n",
        "      break\n",
        "\n",
        "if is_prima:\n",
        "  print(f\"{angka} adalah bilangan prima\")\n",
        "else:\n",
        "  print(f\"{angka} bukan bilangan prima\")"
      ],
      "metadata": {
        "id": "aDTPjYgnypd7",
        "colab": {
          "base_uri": "https://localhost:8080/"
        },
        "outputId": "06ec5d16-b7ca-4c4c-bc09-1f4a1ebee36e"
      },
      "execution_count": 14,
      "outputs": [
        {
          "output_type": "stream",
          "name": "stdout",
          "text": [
            "Masukkan angka untuk memeriksa apakah prima: 1\n",
            "1 bukan bilangan prima\n"
          ]
        }
      ]
    },
    {
      "cell_type": "markdown",
      "source": [
        "#Penugasan 05 - Tampilkan Hanya Bilangan Genap dengan Continue"
      ],
      "metadata": {
        "id": "T5-HwJuZzn6M"
      }
    },
    {
      "cell_type": "code",
      "source": [
        "for i in range(1, 21):\n",
        "  if i % 2 == 1:\n",
        "    continue\n",
        "  print(i)"
      ],
      "metadata": {
        "colab": {
          "base_uri": "https://localhost:8080/"
        },
        "id": "zUjcYhsfzpNk",
        "outputId": "b24ce794-8406-4ff1-fa86-44116fad6b36"
      },
      "execution_count": 15,
      "outputs": [
        {
          "output_type": "stream",
          "name": "stdout",
          "text": [
            "2\n",
            "4\n",
            "6\n",
            "8\n",
            "10\n",
            "12\n",
            "14\n",
            "16\n",
            "18\n",
            "20\n"
          ]
        }
      ]
    },
    {
      "cell_type": "markdown",
      "source": [
        "#Penugasan 06 - Iterasi Dictionary Mahasiswa"
      ],
      "metadata": {
        "id": "z80Udg-325Gd"
      }
    },
    {
      "cell_type": "code",
      "source": [
        "mahasiswa = {\"Nama\":\"Budi\", \"Umur\":21, \"Prodi\":\"Teknik Komputer\"}\n",
        "\n",
        "for k, v in mahasiswa.items():\n",
        "  print(k, \":\", v)"
      ],
      "metadata": {
        "colab": {
          "base_uri": "https://localhost:8080/"
        },
        "id": "N1pURLCi26LZ",
        "outputId": "4c5745fb-45e5-4030-b25b-21de4f115a4c"
      },
      "execution_count": null,
      "outputs": [
        {
          "output_type": "stream",
          "name": "stdout",
          "text": [
            "Nama : Budi\n",
            "Umur : 21\n",
            "Prodi : Teknik Komputer\n"
          ]
        }
      ]
    },
    {
      "cell_type": "markdown",
      "source": [
        "#Penugasan 07 - Enumerate Daftar Barang"
      ],
      "metadata": {
        "id": "fuuXLwfj25iL"
      }
    },
    {
      "cell_type": "code",
      "source": [
        "daftar_barang = [\"Buku\", \"Pulpen\", \"Tas\"]\n",
        "\n",
        "for i, barang in enumerate(daftar_barang, start=1):\n",
        "  print(i, barang)"
      ],
      "metadata": {
        "colab": {
          "base_uri": "https://localhost:8080/"
        },
        "id": "K32Rh2rK27BN",
        "outputId": "aed3ad20-63c7-43a5-9f30-1633e515c809"
      },
      "execution_count": null,
      "outputs": [
        {
          "output_type": "stream",
          "name": "stdout",
          "text": [
            "1 Buku\n",
            "2 Pulpen\n",
            "3 Tas\n"
          ]
        }
      ]
    },
    {
      "cell_type": "markdown",
      "source": [
        "#Penugasan 08 - Studi Kasus – Kasir Diskon"
      ],
      "metadata": {
        "id": "mInO8Ccy25rz"
      }
    },
    {
      "cell_type": "code",
      "source": [
        "total = 0\n",
        "diskon = 0.10\n",
        "batas_diskon = 200000\n",
        "items = []\n",
        "\n",
        "while True:\n",
        "  barang = input(\"Masukkan nama barang (ketik 'selesai' untuk berhenti): \")\n",
        "  if barang.lower() == \"selesai\":\n",
        "    break\n",
        "  try:\n",
        "    harga = float(input(f\"Masukkan harga {barang}: \"))\n",
        "    jumlah = int(input(f\"Masukkan jumlah {barang}: \"))\n",
        "    subtotal = harga * jumlah\n",
        "    total += subtotal\n",
        "    items.append({\"barang\": barang, \"harga\": harga, \"jumlah\": jumlah, \"subtotal\": subtotal})\n",
        "  except ValueError:\n",
        "    print(\"Input tidak valid. Pastikan harga dan jumlah adalah angka.\")\n",
        "    continue\n",
        "\n",
        "print(\"\\n===== Struk Belanja =====\")\n",
        "for item in items:\n",
        "  print(f\"{item['barang']} ({item['jumlah']} x Rp {item['harga']}) : Rp {item['subtotal']}\")\n",
        "\n",
        "print(f\"Total Belanja Awal: Rp {total}\")\n",
        "\n",
        "if total >= batas_diskon:\n",
        "  jumlah_diskon = total * diskon\n",
        "  total_setelah_diskon = total - jumlah_diskon\n",
        "  print(f\"Diskon ({diskon*100}%) : Rp {jumlah_diskon:.2f}\")\n",
        "  print(f\"Total Setelah Diskon: Rp {total_setelah_diskon:.2f}\")\n",
        "else:\n",
        "  print(\"Tidak ada diskon yang diterapkan.\")\n",
        "  print(f\"Total Belanja Akhir: Rp {total}\")\n",
        "\n",
        "print(\"==========================\")"
      ],
      "metadata": {
        "id": "ZJMHWnxB28AJ",
        "colab": {
          "base_uri": "https://localhost:8080/"
        },
        "outputId": "e1f0b3aa-60aa-48d8-de8e-954370f095d2"
      },
      "execution_count": 20,
      "outputs": [
        {
          "output_type": "stream",
          "name": "stdout",
          "text": [
            "Masukkan nama barang (ketik 'selesai' untuk berhenti): Mouse\n",
            "Masukkan harga Mouse: 120000\n",
            "Masukkan jumlah Mouse: 1\n",
            "Masukkan nama barang (ketik 'selesai' untuk berhenti): selesai\n",
            "\n",
            "===== Struk Belanja =====\n",
            "Mouse (1 x Rp 120000.0) : Rp 120000.0\n",
            "Total Belanja Awal: Rp 120000.0\n",
            "Tidak ada diskon yang diterapkan.\n",
            "Total Belanja Akhir: Rp 120000.0\n",
            "==========================\n"
          ]
        }
      ]
    }
  ]
}