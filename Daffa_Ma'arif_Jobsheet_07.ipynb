{
  "nbformat": 4,
  "nbformat_minor": 0,
  "metadata": {
    "colab": {
      "provenance": [],
      "include_colab_link": true
    },
    "kernelspec": {
      "name": "python3",
      "display_name": "Python 3"
    },
    "language_info": {
      "name": "python"
    }
  },
  "cells": [
    {
      "cell_type": "markdown",
      "metadata": {
        "id": "view-in-github",
        "colab_type": "text"
      },
      "source": [
        "<a href=\"https://colab.research.google.com/github/daffamaarifmhspolines/Algoritma-dan-Pemrograman/blob/2025-10-23/Daffa_Ma'arif_Jobsheet_07.ipynb\" target=\"_parent\"><img src=\"https://colab.research.google.com/assets/colab-badge.svg\" alt=\"Open In Colab\"/></a>"
      ]
    },
    {
      "cell_type": "markdown",
      "source": [
        "#Praktikum 01 - Tuple: Data Tetap yang Tidak Bisa Diubah"
      ],
      "metadata": {
        "id": "C1_Tuple"
      }
    },
    {
      "cell_type": "code",
      "execution_count": 1,
      "metadata": {
        "colab": {
          "base_uri": "https://localhost:8080/"
        },
        "id": "C1_Code",
        "outputId": "a7b4edbd-01fa-4622-d9a5-0f9a8e834024"
      },
      "outputs": [
        {
          "output_type": "stream",
          "name": "stdout",
          "text": [
            "Lintang: 7.05\n",
            "Bujur: 110.44\n"
          ]
        }
      ],
      "source": [
        "koordinat = (7.05, 110.44)\n",
        "print(\"Lintang:\", koordinat[0])\n",
        "print(\"Bujur:\", koordinat[1])"
      ]
    },
    {
      "cell_type": "markdown",
      "source": [
        "#Praktikum 02 - Dictionary Dasar: Menyimpan Data Mahasiswa"
      ],
      "metadata": {
        "id": "C2_DictDasar"
      }
    },
    {
      "cell_type": "code",
      "source": [
        "mahasiswa = {\n",
        "  \"NIM\": \"20251001\",\n",
        "  \"Nama\": \"Andi\",\n",
        "  \"Prodi\": \"TRK\"\n",
        "}\n",
        "print(\"NIM:\", mahasiswa[\"NIM\"])\n",
        "print(\"Nama:\", mahasiswa[\"Nama\"])\n",
        "print(\"Prodi:\", mahasiswa[\"Prodi\"])"
      ],
      "metadata": {
        "colab": {
          "base_uri": "https://localhost:8080/"
        },
        "id": "C2_Code",
        "outputId": "7da1ba77-6a40-456b-ea38-ba4ad57e6293"
      },
      "execution_count": 2,
      "outputs": [
        {
          "output_type": "stream",
          "name": "stdout",
          "text": [
            "NIM: 20251001\n",
            "Nama: Andi\n",
            "Prodi: TRK\n"
          ]
        }
      ]
    },
    {
      "cell_type": "markdown",
      "source": [
        "#Praktikum 03 - Operasi pada Dictionary"
      ],
      "metadata": {
        "id": "C3_OperasiDict"
      }
    },
    {
      "cell_type": "code",
      "source": [
        "mahasiswa = {\n",
        "  \"NIM\": \"20251001\",\n",
        "  \"Nama\": \"Andi\",\n",
        "  \"Prodi\": \"TRK\"\n",
        "}\n",
        "mahasiswa[\"Umur\"] = 20\n",
        "mahasiswa[\"Prodi\"] = \"Teknik Komputer\"\n",
        "del mahasiswa[\"Umur\"]\n",
        "print(mahasiswa)"
      ],
      "metadata": {
        "colab": {
          "base_uri": "https://localhost:8080/"
        },
        "id": "C3_Code",
        "outputId": "5ff4e8f9-793a-4627-934f-ef90681dca50"
      },
      "execution_count": 3,
      "outputs": [
        {
          "output_type": "stream",
          "name": "stdout",
          "text": [
            "{'NIM': '20251001', 'Nama': 'Andi', 'Prodi': 'Teknik Komputer'}\n"
          ]
        }
      ]
    },
    {
      "cell_type": "markdown",
      "source": [
        "#Praktikum 04 - Set dan Operasi Himpunan"
      ],
      "metadata": {
        "id": "C4_Set"
      }
    },
    {
      "cell_type": "code",
      "source": [
        "A = {1, 2, 3, 4}\n",
        "B = {3, 4, 5, 6}\n",
        "print(\"Union:\", A | B)\n",
        "print(\"Intersection:\", A & B)\n",
        "print(\"Difference:\", A - B)"
      ],
      "metadata": {
        "colab": {
          "base_uri": "https://localhost:8080/"
        },
        "id": "C4_Code",
        "outputId": "e94fe0a0-fb05-423d-850c-2175bb50c768"
      },
      "execution_count": 4,
      "outputs": [
        {
          "output_type": "stream",
          "name": "stdout",
          "text": [
            "Union: {1, 2, 3, 4, 5, 6}\n",
            "Intersection: {3, 4}\n",
            "Difference: {1, 2}\n"
          ]
        }
      ]
    },
    {
      "cell_type": "markdown",
      "source": [
        "#Praktikum 05 - Studi Kasus: Data Mahasiswa dan Mata Kuliah"
      ],
      "metadata": {
        "id": "C5_StudiKasusSet"
      }
    },
    {
      "cell_type": "code",
      "source": [
        "mhs1 = {\"Algoritma\", \"Matematika\", \"Bahasa Inggris\"}\n",
        "mhs2 = {\"Algoritma\", \"Basis Data\", \"Matematika\"}\n",
        "print(\"Mata kuliah Mhs1:\", mhs1)\n",
        "print(\"Mata kuliah Mhs2:\", mhs2)\n",
        "print(\"Mata kuliah yang sama:\", mhs1 & mhs2)"
      ],
      "metadata": {
        "colab": {
          "base_uri": "https://localhost:8080/"
        },
        "id": "C5_Code",
        "outputId": "247e48c9-da3d-4e3d-bb0e-20f404a0bc1e"
      },
      "execution_count": 5,
      "outputs": [
        {
          "output_type": "stream",
          "name": "stdout",
          "text": [
            "Mata kuliah Mhs1: {'Algoritma', 'Matematika', 'Bahasa Inggris'}\n",
            "Mata kuliah Mhs2: {'Algoritma', 'Matematika', 'Basis Data'}\n",
            "Mata kuliah yang sama: {'Algoritma', 'Matematika'}\n"
          ]
        }
      ]
    },
    {
      "cell_type": "markdown",
      "source": [
        "#Praktikum 06 - Studi Kasus Dictionary: Daftar Nilai Mahasiswa"
      ],
      "metadata": {
        "id": "C6_StudiKasusDict"
      }
    },
    {
      "cell_type": "code",
      "source": [
        "nilai_mahasiswa = {\n",
        "  \"Andi\": 80,\n",
        "  \"Budi\": 75,\n",
        "  \"Cici\": 90\n",
        "}\n",
        "for nama, nilai in nilai_mahasiswa.items():\n",
        "  print(f\"{nama}: {nilai}\")\n",
        "rata = sum(nilai_mahasiswa.values()) / len(nilai_mahasiswa)\n",
        "print(f\"Rata-rata nilai: {rata:.2f}\")"
      ],
      "metadata": {
        "colab": {
          "base_uri": "https://localhost:8080/"
        },
        "id": "C6_Code",
        "outputId": "ab72e01c-3670-4f83-c830-855e14833fb1"
      },
      "execution_count": 6,
      "outputs": [
        {
          "output_type": "stream",
          "name": "stdout",
          "text": [
            "Andi: 80\n",
            "Budi: 75\n",
            "Cici: 90\n",
            "Rata-rata nilai: 81.67\n"
          ]
        }
      ]
    },
    {
      "cell_type": "markdown",
      "source": [
        "#Penugasan 01 - Tuple Sederhana"
      ],
      "metadata": {
        "id": "P03_TupleSederhana"
      }
    },
    {
      "cell_type": "code",
      "source": [
        "data_mahasiswa = (\"Daffa Ma'arif\", 18, \"Teknologi Rekayasa Komputer\")\n",
        "print(f\"Nama: {data_mahasiswa[0]}\")\n",
        "print(f\"Umur: {data_mahasiswa[1]}\")\n",
        "print(f\"Prodi: {data_mahasiswa[2]}\")"
      ],
      "metadata": {
        "id": "P03_Code",
        "colab": {
          "base_uri": "https://localhost:8080/"
        },
        "outputId": "2345c9c1-542b-4924-eaef-13b53c7c7621"
      },
      "execution_count": 7,
      "outputs": [
        {
          "output_type": "stream",
          "name": "stdout",
          "text": [
            "Nama: Daffa Ma'arif\n",
            "Umur: 18\n",
            "Prodi: Teknologi Rekayasa Komputer\n"
          ]
        }
      ]
    },
    {
      "cell_type": "markdown",
      "source": [
        "#Penugasan 02 - Tuple Tidak Bisa Diubah"
      ],
      "metadata": {
        "id": "P04_TupleImmutable"
      }
    },
    {
      "cell_type": "code",
      "source": [
        "data_tuple = (1, 2, 3)\n",
        "try:\n",
        "  data_tuple[0] = 10\n",
        "except TypeError as e:\n",
        "  print(f\"Error: {e}\")\n",
        "  print(\"Penjelasan: Tuple bersifat 'immutable', artinya elemen di dalamnya tidak bisa diubah setelah dibuat.\")"
      ],
      "metadata": {
        "id": "P04_Code",
        "colab": {
          "base_uri": "https://localhost:8080/"
        },
        "outputId": "bf2585b2-17e9-40c0-be7a-85a0c665de8c"
      },
      "execution_count": 12,
      "outputs": [
        {
          "output_type": "stream",
          "name": "stdout",
          "text": [
            "Error: 'tuple' object does not support item assignment\n",
            "Penjelasan: Tuple bersifat 'immutable', artinya elemen di dalamnya tidak bisa diubah setelah dibuat.\n"
          ]
        }
      ]
    },
    {
      "cell_type": "markdown",
      "source": [
        "#Penugasan 03 - Dictionary Dasar"
      ],
      "metadata": {
        "id": "P05_DictDasar"
      }
    },
    {
      "cell_type": "code",
      "source": [
        "buku = {\n",
        "  \"Judul\": \"Algoritma\",\n",
        "  \"Penulis\": \"Munir\",\n",
        "  \"Tahun\": 2021\n",
        "}\n",
        "print(f\"Judul: {buku['Judul']}\")\n",
        "print(f\"Penulis: {buku['Penulis']}\")\n",
        "print(f\"Tahun: {buku['Tahun']}\")"
      ],
      "metadata": {
        "id": "P05_Code",
        "colab": {
          "base_uri": "https://localhost:8080/"
        },
        "outputId": "7ebb9462-7d25-4b00-c5b3-9cd2c6c53d6b"
      },
      "execution_count": 13,
      "outputs": [
        {
          "output_type": "stream",
          "name": "stdout",
          "text": [
            "Judul: Algoritma\n",
            "Penulis: Munir\n",
            "Tahun: 2021\n"
          ]
        }
      ]
    },
    {
      "cell_type": "markdown",
      "source": [
        "#Penugasan 04 - Operasi Dictionary"
      ],
      "metadata": {
        "id": "P06_OperasiDict"
      }
    },
    {
      "cell_type": "code",
      "source": [
        "dosen = {\n",
        "  \"NIP\": \"12345\",\n",
        "  \"Nama\": \"Budi\",\n",
        "  \"Prodi\": \"TRK\"\n",
        "}\n",
        "print(f\"Data Awal: {dosen}\")\n",
        "dosen[\"Umur\"] = 40\n",
        "print(f\"Setelah Tambah Umur: {dosen}\")\n",
        "dosen[\"Prodi\"] = \"Teknik Komputer\"\n",
        "print(f\"Setelah Update Prodi: {dosen}\")\n",
        "del dosen[\"Umur\"]\n",
        "print(f\"Hasil Akhir: {dosen}\")"
      ],
      "metadata": {
        "id": "P06_Code",
        "colab": {
          "base_uri": "https://localhost:8080/"
        },
        "outputId": "18e239bd-134c-4aea-cac4-f5a5745d04e5"
      },
      "execution_count": 14,
      "outputs": [
        {
          "output_type": "stream",
          "name": "stdout",
          "text": [
            "Data Awal: {'NIP': '12345', 'Nama': 'Budi', 'Prodi': 'TRK'}\n",
            "Setelah Tambah Umur: {'NIP': '12345', 'Nama': 'Budi', 'Prodi': 'TRK', 'Umur': 40}\n",
            "Setelah Update Prodi: {'NIP': '12345', 'Nama': 'Budi', 'Prodi': 'Teknik Komputer', 'Umur': 40}\n",
            "Hasil Akhir: {'NIP': '12345', 'Nama': 'Budi', 'Prodi': 'Teknik Komputer'}\n"
          ]
        }
      ]
    },
    {
      "cell_type": "markdown",
      "source": [
        "#Penugasan 05 - Set dan Himpunan"
      ],
      "metadata": {
        "id": "P07_SetHimpunan"
      }
    },
    {
      "cell_type": "code",
      "source": [
        "A = {\"Matematika\", \"Algoritma\", \"Bahasa Inggris\"}\n",
        "B = {\"Algoritma\", \"Basis Data\", \"Matematika\"}\n",
        "print(f\"Set A: {A}\")\n",
        "print(f\"Set B: {B}\")\n",
        "print(f\"Union: {A | B}\")\n",
        "print(f\"Intersection: {A & B}\")\n",
        "print(f\"Difference (A - B): {A - B}\")"
      ],
      "metadata": {
        "id": "P07_Code",
        "colab": {
          "base_uri": "https://localhost:8080/"
        },
        "outputId": "d990308c-13e3-4818-c64c-d36530034ff1"
      },
      "execution_count": 15,
      "outputs": [
        {
          "output_type": "stream",
          "name": "stdout",
          "text": [
            "Set A: {'Algoritma', 'Matematika', 'Bahasa Inggris'}\n",
            "Set B: {'Algoritma', 'Matematika', 'Basis Data'}\n",
            "Union: {'Algoritma', 'Matematika', 'Bahasa Inggris', 'Basis Data'}\n",
            "Intersection: {'Algoritma', 'Matematika'}\n",
            "Difference (A - B): {'Bahasa Inggris'}\n"
          ]
        }
      ]
    },
    {
      "cell_type": "markdown",
      "source": [
        "#Penugasan 06 - Studi Kasus Dictionary"
      ],
      "metadata": {
        "id": "P08_StudiKasusDict"
      }
    },
    {
      "cell_type": "code",
      "source": [
        "nilai_mahasiswa = {\n",
        "  \"Andi\": 85,\n",
        "  \"Budi\": 90,\n",
        "  \"Cici\": 78\n",
        "}\n",
        "print(\"Daftar Nilai Mahasiswa:\")\n",
        "for nama, nilai in nilai_mahasiswa.items():\n",
        "  print(f\"- {nama}: {nilai}\")\n",
        "\n",
        "rata = sum(nilai_mahasiswa.values()) / len(nilai_mahasiswa)\n",
        "print(f\"Rata-rata nilai: {rata:.2f}\")"
      ],
      "metadata": {
        "id": "P08_Code",
        "colab": {
          "base_uri": "https://localhost:8080/"
        },
        "outputId": "26194254-2ec3-4f34-fab0-62a28faabccc"
      },
      "execution_count": 16,
      "outputs": [
        {
          "output_type": "stream",
          "name": "stdout",
          "text": [
            "Daftar Nilai Mahasiswa:\n",
            "- Andi: 85\n",
            "- Budi: 90\n",
            "- Cici: 78\n",
            "Rata-rata nilai: 84.33\n"
          ]
        }
      ]
    },
    {
      "cell_type": "markdown",
      "source": [
        "#Penugasan 07 - Studi Kasus Set - Klub Mahasiswa"
      ],
      "metadata": {
        "id": "P09_StudiKasusSet"
      }
    },
    {
      "cell_type": "code",
      "source": [
        "Klub_A = {\"Andi\", \"Budi\", \"Cici\"}\n",
        "Klub_B = {\"Cici\", \"Deni\", \"Eka\"}\n",
        "\n",
        "print(f\"Klub A: {Klub_A}\")\n",
        "print(f\"Klub B: {Klub_B}\")\n",
        "print(f\"Daftar seluruh anggota (Union): {Klub_A | Klub_B}\")\n",
        "print(f\"Anggota kedua klub (Intersection): {Klub_A & Klub_B}\")\n",
        "print(f\"Anggota hanya di Klub A (Difference): {Klub_A - Klub_B}\")"
      ],
      "metadata": {
        "id": "P09_Code",
        "colab": {
          "base_uri": "https://localhost:8080/"
        },
        "outputId": "2bea98df-532f-4464-e036-6d30dabb5f16"
      },
      "execution_count": 17,
      "outputs": [
        {
          "output_type": "stream",
          "name": "stdout",
          "text": [
            "Klub A: {'Cici', 'Andi', 'Budi'}\n",
            "Klub B: {'Cici', 'Deni', 'Eka'}\n",
            "Daftar seluruh anggota (Union): {'Budi', 'Cici', 'Andi', 'Deni', 'Eka'}\n",
            "Anggota kedua klub (Intersection): {'Cici'}\n",
            "Anggota hanya di Klub A (Difference): {'Budi', 'Andi'}\n"
          ]
        }
      ]
    }
  ]
}