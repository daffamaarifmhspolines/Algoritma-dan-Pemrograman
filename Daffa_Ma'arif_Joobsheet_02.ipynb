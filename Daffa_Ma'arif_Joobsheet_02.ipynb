{
  "nbformat": 4,
  "nbformat_minor": 0,
  "metadata": {
    "colab": {
      "provenance": []
    },
    "kernelspec": {
      "name": "python3",
      "display_name": "Python 3"
    },
    "language_info": {
      "name": "python"
    }
  },
  "cells": [
    {
      "cell_type": "markdown",
      "source": [
        "# Praktikum 01 – Pengenalan Variabel dan Tipe Data"
      ],
      "metadata": {
        "id": "zcdq6GZc0bqp"
      }
    },
    {
      "cell_type": "code",
      "execution_count": null,
      "metadata": {
        "colab": {
          "base_uri": "https://localhost:8080/"
        },
        "id": "4CEgTJqA0Vle",
        "outputId": "0862a0b9-d409-4a46-b099-cfd5946920dd"
      },
      "outputs": [
        {
          "output_type": "stream",
          "name": "stdout",
          "text": [
            "Umur:  20 → <class 'int'>\n",
            "Tinggi:  170.5 → <class 'float'>\n",
            "Nama: Andi → <class 'str'>\n",
            "Status Mahasiswa: True → <class 'bool'>\n",
            "Nilai: [80, 85, 90] → <class 'list'>\n",
            "Koordinat: (10, 20) → <class 'tuple'>\n",
            "Data Mahasiswa: {'nama': 'Andi', 'umur': 20, 'prodi': 'TRK'} → <class 'dict'>\n",
            "Hobi: {'membaca', 'musik', 'olahraga'} → <class 'set'>\n"
          ]
        }
      ],
      "source": [
        "umur = 20\n",
        "print(\"Umur: \", umur, \"→\", type(umur))\n",
        "\n",
        "tinggi = 170.5\n",
        "print(\"Tinggi: \", tinggi, \"→\", type(tinggi))\n",
        "\n",
        "nama = \"Andi\"\n",
        "print(\"Nama:\", nama, \"→\", type(nama))\n",
        "\n",
        "is_mahasiswa = True\n",
        "print(\"Status Mahasiswa:\", is_mahasiswa, \"→\", type(is_mahasiswa))\n",
        "\n",
        "nilai = [80, 85, 90]\n",
        "print(\"Nilai:\", nilai, \"→\", type(nilai))\n",
        "\n",
        "koordinat = (10, 20)\n",
        "print(\"Koordinat:\", koordinat, \"→\", type(koordinat))\n",
        "\n",
        "mahasiswa = {\"nama\": \"Andi\", \"umur\": 20, \"prodi\": \"TRK\"}\n",
        "print(\"Data Mahasiswa:\", mahasiswa, \"→\", type(mahasiswa))\n",
        "\n",
        "hobi = {\"membaca\", \"olahraga\", \"musik\"}\n",
        "print(\"Hobi:\", hobi, \"→\", type(hobi))"
      ]
    },
    {
      "cell_type": "markdown",
      "source": [
        "# Praktikum 02 – Input dan Output Dasar"
      ],
      "metadata": {
        "id": "ArZriG-50Zd9"
      }
    },
    {
      "cell_type": "code",
      "source": [
        "nama = input(\"Masukkan nama Anda: \")\n",
        "umur = int(input(\"Masukkan umur Anda: \"))\n",
        "tinggi = float(input(\"Masukkan tinggi badan (cm): \"))\n",
        "print(\"Halo,\", nama, \"umur Anda:\", umur, \"tahun, tinggi:\", tinggi, \"cm\")\n",
        "print(\"Halo {0}, umur Anda {1} tahun, tinggi {2} cm\".format(nama, umur,\n",
        "tinggi))\n",
        "print(f\"Halo {nama}, umur Anda {umur} tahun, tinggi {tinggi} cm\")"
      ],
      "metadata": {
        "colab": {
          "base_uri": "https://localhost:8080/"
        },
        "id": "PVa6zDVu0aOH",
        "outputId": "904331f0-73ae-41c7-e893-4af19335e71d"
      },
      "execution_count": null,
      "outputs": [
        {
          "output_type": "stream",
          "name": "stdout",
          "text": [
            "Masukkan nama Anda: Daffa\n",
            "Masukkan umur Anda: 18\n",
            "Masukkan tinggi badan (cm): 168.5\n",
            "Halo, Daffa umur Anda: 18 tahun, tinggi: 168.5 cm\n",
            "Halo Daffa, umur Anda 18 tahun, tinggi 168.5 cm\n",
            "Halo Daffa, umur Anda 18 tahun, tinggi 168.5 cm\n"
          ]
        }
      ]
    },
    {
      "cell_type": "markdown",
      "source": [
        "# Praktikum 03 – Operator Aritmatika"
      ],
      "metadata": {
        "id": "CdI7_ZHR6Vxe"
      }
    },
    {
      "cell_type": "code",
      "source": [
        "a = 15\n",
        "b = 4\n",
        "\n",
        "print(\"a + b =\", a + b)\n",
        "print(\"a - b =\", a - b)\n",
        "print(\"a * b =\", a * b)\n",
        "print(\"a / b =\", a / b)\n",
        "print(\"a // b =\", a // b)\n",
        "print(\"a % b =\", a % b)\n",
        "print(\"a ** b =\", a ** b)"
      ],
      "metadata": {
        "colab": {
          "base_uri": "https://localhost:8080/"
        },
        "id": "3heYrQ8B6Ydg",
        "outputId": "74992734-e333-4a93-f950-0958a05f6d0d"
      },
      "execution_count": null,
      "outputs": [
        {
          "output_type": "stream",
          "name": "stdout",
          "text": [
            "a + b = 19\n",
            "a - b = 11\n",
            "a * b = 60\n",
            "a / b = 3.75\n",
            "a // b = 3\n",
            "a % b = 3\n",
            "a ** b = 50625\n"
          ]
        }
      ]
    },
    {
      "cell_type": "markdown",
      "source": [
        "# Praktikum 04 – Operator Relasional"
      ],
      "metadata": {
        "id": "phJSBmPI6ZKs"
      }
    },
    {
      "cell_type": "code",
      "source": [
        "x = 10\n",
        "y = 20\n",
        "\n",
        "print(\"x == y :\", x == y)\n",
        "print(\"x != y :\", x != y)\n",
        "print(\"x < y :\", x < y)\n",
        "print(\"x > y :\", x > y)\n",
        "print(\"x <= y :\", x <= y)\n",
        "print(\"x >= y :\", x >= y)"
      ],
      "metadata": {
        "colab": {
          "base_uri": "https://localhost:8080/"
        },
        "id": "dLxdLhIr6ZqT",
        "outputId": "c3b62e4a-0026-4426-8e9f-255dd7cd7847"
      },
      "execution_count": null,
      "outputs": [
        {
          "output_type": "stream",
          "name": "stdout",
          "text": [
            "x == y : False\n",
            "x != y : True\n",
            "x < y : True\n",
            "x > y : False\n",
            "x <= y : True\n",
            "x >= y : False\n"
          ]
        }
      ]
    },
    {
      "cell_type": "markdown",
      "source": [
        "# Praktikum 05 – Operator Logika dengan Studi Kasus Nyata"
      ],
      "metadata": {
        "id": "ZLiRWKw267a6"
      }
    },
    {
      "cell_type": "code",
      "source": [
        "a = True\n",
        "b = False\n",
        "\n",
        "print(\"a and b =\", a and b)\n",
        "print(\"a or b =\", a or b)\n",
        "print(\"not a =\", not a)\n",
        "\n",
        "nilai = int(input(\"Masukkan nilai ujian: \"))\n",
        "hadir = int(input(\"Masukkan jumlah kehadiran: \"))\n",
        "\n",
        "lulus_nilai = nilai >= 60\n",
        "lulus_hadir = hadir >= 12\n",
        "\n",
        "if lulus_nilai and lulus_hadir:\n",
        "  print(\"Status: LULUS\")\n",
        "else:\n",
        "  print(\"Status: TIDAK LULUS\")"
      ],
      "metadata": {
        "colab": {
          "base_uri": "https://localhost:8080/"
        },
        "id": "CRm6j6W7678q",
        "outputId": "525440ba-608f-473d-ab9d-6fc3c0b45f6d"
      },
      "execution_count": null,
      "outputs": [
        {
          "output_type": "stream",
          "name": "stdout",
          "text": [
            "a and b = False\n",
            "a or b = True\n",
            "not a = False\n",
            "Masukkan nilai ujian: 75\n",
            "Masukkan jumlah kehadiran: 25\n",
            "Status: LULUS\n"
          ]
        }
      ]
    },
    {
      "cell_type": "markdown",
      "source": [
        "# Praktikum 06 – Program Kasir Sederhana"
      ],
      "metadata": {
        "id": "4LsulbfG68bO"
      }
    },
    {
      "cell_type": "code",
      "source": [
        "barang = input(\"Masukkan nama barang: \")\n",
        "harga = float(input(\"Masukkan harga barang: \"))\n",
        "jumlah = int(input(\"Masukkan jumlah barang: \"))\n",
        "total = harga * jumlah\n",
        "\n",
        "if total >= 500000:\n",
        "  diskon = 0.2\n",
        "elif total >= 250000:\n",
        "  diskon = 0.1\n",
        "else:\n",
        "  diskon = 0\n",
        "\n",
        "potongan = total * diskon\n",
        "bayar = total - potongan\n",
        "\n",
        "print(\"\\n===== Struk Belanja =====\")\n",
        "print(f\"Barang : {barang}\")\n",
        "print(f\"Jumlah : {jumlah}\")\n",
        "print(f\"Total : Rp {total}\")\n",
        "print(f\"Diskon : {diskon * 100}%\")\n",
        "print(f\"Bayar : Rp {bayar}\")"
      ],
      "metadata": {
        "colab": {
          "base_uri": "https://localhost:8080/"
        },
        "id": "kosD1zLN681d",
        "outputId": "c9ecf3a7-8717-46c4-8395-3be5e074c024"
      },
      "execution_count": null,
      "outputs": [
        {
          "output_type": "stream",
          "name": "stdout",
          "text": [
            "Masukkan nama barang: Laptop\n",
            "Masukkan harga barang: 8000000\n",
            "Masukkan jumlah barang: 5\n",
            "\n",
            "===== Struk Belanja =====\n",
            "Barang : Laptop\n",
            "Jumlah : 5\n",
            "Total : Rp 40000000.0\n",
            "Diskon : 20.0%\n",
            "Bayar : Rp 32000000.0\n"
          ]
        }
      ]
    },
    {
      "cell_type": "markdown",
      "source": [
        "# Penugasan 01 - Identitas Mahasiswa"
      ],
      "metadata": {
        "id": "2ecegi3X9pPl"
      }
    },
    {
      "cell_type": "code",
      "source": [
        "nama = \"Daffa Ma'arif\"\n",
        "umur = 18\n",
        "tinggi = 168.5\n",
        "status_aktif = True\n",
        "\n",
        "print(\"--- Data Mahasiswa ---\")\n",
        "print(f\"Nama         : \", nama)\n",
        "print(f\"Umur         : \", umur , \"tahun\")\n",
        "print(f\"Tinggi       : \", tinggi, \"cm\")\n",
        "print(f\"Status Aktif : \", status_aktif)\n",
        "print(\"-\" * 22)"
      ],
      "metadata": {
        "id": "kELDU4Em9rl5",
        "colab": {
          "base_uri": "https://localhost:8080/"
        },
        "outputId": "2c2b6250-85d7-4ee7-e20b-160baf808c25"
      },
      "execution_count": 8,
      "outputs": [
        {
          "output_type": "stream",
          "name": "stdout",
          "text": [
            "--- Data Mahasiswa ---\n",
            "Nama         :  Daffa Ma'arif\n",
            "Umur         :  18 tahun\n",
            "Tinggi       :  168.5 cm\n",
            "Status Aktif :  True\n",
            "----------------------\n"
          ]
        }
      ]
    },
    {
      "cell_type": "markdown",
      "source": [
        "# Penugasan 02 - Operasi Aritmatika"
      ],
      "metadata": {
        "id": "Z3iDU7iE9rGH"
      }
    },
    {
      "cell_type": "code",
      "source": [
        "bil1 = int(input(\"Masukkan bilangan pertama (bulat): \"))\n",
        "bil2 = int(input(\"Masukkan bilangan kedua (bulat): \"))\n",
        "\n",
        "print(f\"\\nHasil Operasi dari {bil1} dan {bil2}:\")\n",
        "print(f\"Penjumlahan   ({bil1} + {bil2}) : {bil1 + bil2}\")\n",
        "print(f\"Pengurangan   ({bil1} - {bil2}) : {bil1 - bil2}\")\n",
        "print(f\"Perkalian     ({bil1} * {bil2}) : {bil1 * bil2}\")\n",
        "\n",
        "if bil2 != 0:\n",
        "    print(f\"Pembagian     ({bil1} / {bil2}) : {bil1 / bil2}\")\n",
        "    print(f\"Sisa Bagi     ({bil1} % {bil2}) : {bil1 % bil2}\")\n",
        "else:\n",
        "    print(f\"Pembagian     ({bil1} / {bil2}) : Error (Tidak bisa dibagi nol)\")\n",
        "    print(f\"Sisa Bagi     ({bil1} % {bil2}) : Error (Tidak bisa dibagi nol)\")\n",
        "\n",
        "print(f\"Perpangkatan  ({bil1} ** {bil2}) : {bil1 ** bil2}\")"
      ],
      "metadata": {
        "id": "v4xQ1Y6q9sMl",
        "colab": {
          "base_uri": "https://localhost:8080/"
        },
        "outputId": "f4339dcb-13cf-4179-83dd-a04f09a5ec4d"
      },
      "execution_count": 12,
      "outputs": [
        {
          "output_type": "stream",
          "name": "stdout",
          "text": [
            "Masukkan bilangan pertama (bulat): 32\n",
            "Masukkan bilangan kedua (bulat): 16\n",
            "\n",
            "Hasil Operasi dari 32 dan 16:\n",
            "Penjumlahan   (32 + 16) : 48\n",
            "Pengurangan   (32 - 16) : 16\n",
            "Perkalian     (32 * 16) : 512\n",
            "Pembagian     (32 / 16) : 2.0\n",
            "Sisa Bagi     (32 % 16) : 0\n",
            "Perpangkatan  (32 ** 16) : 1208925819614629174706176\n"
          ]
        }
      ]
    },
    {
      "cell_type": "markdown",
      "source": [
        "# Penugasan 03 - Konversi Nilai"
      ],
      "metadata": {
        "id": "6eafBWgy9srR"
      }
    },
    {
      "cell_type": "code",
      "source": [
        "angka_desimal = float(input(\"Masukkan angka desimal (cth: 98.765): \"))\n",
        "\n",
        "print(f\"\\nNilai Asli: {angka_desimal} (Tipe: {type(angka_desimal)})\")\n",
        "\n",
        "konversi_int = int(angka_desimal)\n",
        "print(f\"Konversi int()  : {konversi_int} (Tipe: {type(konversi_int)})\")\n",
        "\n",
        "konversi_str = str(angka_desimal)\n",
        "print(f\"Konversi str()  : '{konversi_str}' (Tipe: {type(konversi_str)})\")\n",
        "\n",
        "konversi_bulat = round(angka_desimal, 2)\n",
        "print(f\"Pembulatan (2)  : {konversi_bulat} (Tipe: {type(konversi_bulat)})\")"
      ],
      "metadata": {
        "id": "rQgLXFRw9tD1",
        "colab": {
          "base_uri": "https://localhost:8080/"
        },
        "outputId": "6727dd3c-9eeb-492c-c93b-0b30ab7ac50b"
      },
      "execution_count": 13,
      "outputs": [
        {
          "output_type": "stream",
          "name": "stdout",
          "text": [
            "Masukkan angka desimal (cth: 98.765): 98.765\n",
            "\n",
            "Nilai Asli: 98.765 (Tipe: <class 'float'>)\n",
            "Konversi int()  : 98 (Tipe: <class 'int'>)\n",
            "Konversi str()  : '98.765' (Tipe: <class 'str'>)\n",
            "Pembulatan (2)  : 98.77 (Tipe: <class 'float'>)\n"
          ]
        }
      ]
    },
    {
      "cell_type": "markdown",
      "source": [
        "# Penugasan 04 - Operator Relasional"
      ],
      "metadata": {
        "id": "lTFgEgJS9tpl"
      }
    },
    {
      "cell_type": "code",
      "source": [
        "a = float(input(\"Masukkan bilangan A: \"))\n",
        "b = float(input(\"Masukkan bilangan B: \"))\n",
        "\n",
        "print(f\"\\nHasil Perbandingan {a} dan {b}:\")\n",
        "print(f\"{a} == {b} (Sama dengan)       : {a == b}\")\n",
        "print(f\"{a} != {b} (Tidak sama dengan) : {a != b}\")\n",
        "print(f\"{a} <  {b} (Lebih kecil dari)    : {a < b}\")\n",
        "print(f\"{a} >  {b} (Lebih besar dari)    : {a > b}\")\n",
        "print(f\"{a} <= {b} (Lebih kecil/sama)   : {a <= b}\")\n",
        "print(f\"{a} >= {b} (Lebih besar/sama)   : {a >= b}\")"
      ],
      "metadata": {
        "id": "xbnIUu0P9t_S",
        "colab": {
          "base_uri": "https://localhost:8080/"
        },
        "outputId": "7568eb65-3f18-467c-feec-fee1215fac4b"
      },
      "execution_count": 14,
      "outputs": [
        {
          "output_type": "stream",
          "name": "stdout",
          "text": [
            "Masukkan bilangan A: 20\n",
            "Masukkan bilangan B: 4\n",
            "\n",
            "Hasil Perbandingan 20.0 dan 4.0:\n",
            "20.0 == 4.0 (Sama dengan)       : False\n",
            "20.0 != 4.0 (Tidak sama dengan) : True\n",
            "20.0 <  4.0 (Lebih kecil dari)    : False\n",
            "20.0 >  4.0 (Lebih besar dari)    : True\n",
            "20.0 <= 4.0 (Lebih kecil/sama)   : False\n",
            "20.0 >= 4.0 (Lebih besar/sama)   : True\n"
          ]
        }
      ]
    }
  ]
}