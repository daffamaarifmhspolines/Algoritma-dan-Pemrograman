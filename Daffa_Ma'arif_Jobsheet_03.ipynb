{
  "nbformat": 4,
  "nbformat_minor": 0,
  "metadata": {
    "colab": {
      "provenance": [],
      "authorship_tag": "ABX9TyOpc6g/7xeJVJWmscLDzvgd",
      "include_colab_link": true
    },
    "kernelspec": {
      "name": "python3",
      "display_name": "Python 3"
    },
    "language_info": {
      "name": "python"
    }
  },
  "cells": [
    {
      "cell_type": "markdown",
      "metadata": {
        "id": "view-in-github",
        "colab_type": "text"
      },
      "source": [
        "<a href=\"https://colab.research.google.com/github/daffamaarifmhspolines/Algoritma-dan-Pemrograman/blob/2025-10-09/Daffa_Ma'arif_Jobsheet_03.ipynb\" target=\"_parent\"><img src=\"https://colab.research.google.com/assets/colab-badge.svg\" alt=\"Open In Colab\"/></a>"
      ]
    },
    {
      "cell_type": "markdown",
      "source": [
        "#Praktikum 01 – If Sederhana"
      ],
      "metadata": {
        "id": "1UvXskHTR6eR"
      }
    },
    {
      "cell_type": "code",
      "execution_count": null,
      "metadata": {
        "id": "5Op822Y9Fonl",
        "colab": {
          "base_uri": "https://localhost:8080/"
        },
        "outputId": "8985a16b-b69c-435a-b1a6-d6b755c6249a"
      },
      "outputs": [
        {
          "output_type": "stream",
          "name": "stdout",
          "text": [
            "Masukkan nilai ujian: 70\n",
            "Anda LULUS\n"
          ]
        }
      ],
      "source": [
        "nilai = int(input(\"Masukkan nilai ujian: \"))\n",
        "if nilai >= 60:\n",
        "  print(\"Anda LULUS\")"
      ]
    },
    {
      "cell_type": "markdown",
      "source": [
        "#Praktikum 02 – If-Else"
      ],
      "metadata": {
        "id": "26Ovu501SDTV"
      }
    },
    {
      "cell_type": "code",
      "source": [
        "nilai = int(input(\"Masukkan nilai ujian: \"))\n",
        "if nilai >= 60:\n",
        "  print(\"Anda LULUS\")\n",
        "else:\n",
        "  print(\"Anda TIDAK LULUS\")"
      ],
      "metadata": {
        "colab": {
          "base_uri": "https://localhost:8080/"
        },
        "id": "WJFR1-HvSDsP",
        "outputId": "0b471879-8c79-4bbd-b6c2-1cb85440e7e9"
      },
      "execution_count": null,
      "outputs": [
        {
          "output_type": "stream",
          "name": "stdout",
          "text": [
            "Masukkan nilai ujian: 50\n",
            "Anda TIDAK LULUS\n"
          ]
        }
      ]
    },
    {
      "cell_type": "markdown",
      "source": [
        "#Praktikum 03 – If-Elif-Else"
      ],
      "metadata": {
        "id": "6BQimRPRSEPU"
      }
    },
    {
      "cell_type": "code",
      "source": [
        "nilai = int(input(\"Masukkan nilai akhir: \"))\n",
        "\n",
        "if nilai >= 85:\n",
        "  grade = \"A\"\n",
        "elif nilai >= 70:\n",
        "  grade = \"B\"\n",
        "elif nilai >= 55:\n",
        "  grade = \"C\"\n",
        "elif nilai >= 40:\n",
        "  grade = \"D\"\n",
        "else:\n",
        "  grade = \"E\"\n",
        "\n",
        "print(f\"Nilai Anda {nilai}, maka grade Anda = {grade}\")"
      ],
      "metadata": {
        "colab": {
          "base_uri": "https://localhost:8080/"
        },
        "id": "KJU6teiLSEnC",
        "outputId": "3e42dff0-d6ce-45c1-dfa2-1ad7f37a6ca2"
      },
      "execution_count": null,
      "outputs": [
        {
          "output_type": "stream",
          "name": "stdout",
          "text": [
            "Masukkan nilai akhir: 78\n",
            "Nilai Anda 78, maka grade Anda = B\n"
          ]
        }
      ]
    },
    {
      "cell_type": "markdown",
      "source": [
        "#Praktikum 04 – Nested If"
      ],
      "metadata": {
        "id": "xClNS_J8SFEp"
      }
    },
    {
      "cell_type": "code",
      "source": [
        "ipk = float(input(\"Masukkan IPK: \"))\n",
        "sks = int(input(\"Masukkan jumlah SKS: \"))\n",
        "\n",
        "if ipk >= 3.0:\n",
        "  if sks >= 18:\n",
        "    print(\"Anda LAYAK mendapat beasiswa\")\n",
        "  else:\n",
        "    print(\"IPK memenuhi, tapi SKS kurang\")\n",
        "else:\n",
        "  print(\"Anda TIDAK layak mendapat beasiswa\")"
      ],
      "metadata": {
        "colab": {
          "base_uri": "https://localhost:8080/"
        },
        "id": "BmDWhTb_SFbF",
        "outputId": "d2c5adca-6afd-4a97-bcb3-6327b3e48995"
      },
      "execution_count": null,
      "outputs": [
        {
          "output_type": "stream",
          "name": "stdout",
          "text": [
            "Masukkan IPK: 2.8\n",
            "Masukkan jumlah SKS: 20\n",
            "Anda TIDAK layak mendapat beasiswa\n"
          ]
        }
      ]
    },
    {
      "cell_type": "markdown",
      "source": [
        "#Praktikum 05 – Match-Case"
      ],
      "metadata": {
        "id": "oLSnLqrgSFv4"
      }
    },
    {
      "cell_type": "code",
      "source": [
        "menu = int(input(\"Pilih menu (1-3): \"))\n",
        "\n",
        "match menu:\n",
        "  case 1:\n",
        "    print(\"Anda memilih Nasi Goreng\")\n",
        "  case 2:\n",
        "    print(\"Anda memilih Mie Ayam\")\n",
        "  case 3:\n",
        "    print(\"Anda memilih Soto Ayam\")\n",
        "  case _:\n",
        "    print(\"Menu tidak tersedia\")"
      ],
      "metadata": {
        "colab": {
          "base_uri": "https://localhost:8080/"
        },
        "id": "3mRBUtj1SGFy",
        "outputId": "92b3ecc2-2e96-4280-931f-e877ba60300b"
      },
      "execution_count": null,
      "outputs": [
        {
          "output_type": "stream",
          "name": "stdout",
          "text": [
            "Pilih menu (1-3): 9\n",
            "Menu tidak tersedia\n"
          ]
        }
      ]
    },
    {
      "cell_type": "markdown",
      "source": [
        "#Praktikum 06 – Studi Kasus: Program Kasir"
      ],
      "metadata": {
        "id": "K-7w2TLTSGoa"
      }
    },
    {
      "cell_type": "code",
      "source": [
        "barang = input(\"Masukkan nama barang: \")\n",
        "harga = float(input(\"Masukkan harga barang: \"))\n",
        "jumlah = int(input(\"Masukkan jumlah barang: \"))\n",
        "total = harga * jumlah\n",
        "\n",
        "if total >= 500000:\n",
        "  diskon = 0.2\n",
        "elif total >= 250000:\n",
        "  diskon = 0.1\n",
        "else:\n",
        "  diskon = 0\n",
        "\n",
        "bayar = total - (total * diskon)\n",
        "\n",
        "print(\"\\n===== Struk Belanja =====\")\n",
        "print(f\"Barang : {barang}\")\n",
        "print(f\"Jumlah : {jumlah}\")\n",
        "print(f\"Total : Rp {total}\")\n",
        "print(f\"Diskon : {diskon*100}%\")\n",
        "print(f\"Bayar : Rp {bayar}\")"
      ],
      "metadata": {
        "colab": {
          "base_uri": "https://localhost:8080/"
        },
        "id": "fOfsRwatSG-1",
        "outputId": "ad9d4349-3783-4ea9-a9b1-cb1a8ef1c0eb"
      },
      "execution_count": null,
      "outputs": [
        {
          "output_type": "stream",
          "name": "stdout",
          "text": [
            "Masukkan nama barang: Pulpen\n",
            "Masukkan harga barang: 5000\n",
            "Masukkan jumlah barang: 10\n",
            "\n",
            "===== Struk Belanja =====\n",
            "Barang : Pulpen\n",
            "Jumlah : 10\n",
            "Total : Rp 50000.0\n",
            "Diskon : 0%\n",
            "Bayar : Rp 50000.0\n"
          ]
        }
      ]
    },
    {
      "cell_type": "markdown",
      "source": [
        "# Penugasan 01 - Cek Bilangan Positif/Negatif/Nol"
      ],
      "metadata": {
        "id": "uIBnGUX57ZHB"
      }
    },
    {
      "cell_type": "code",
      "source": [
        "bilangan = int(input(\"Masukkan bilangan: \"))\n",
        "\n",
        "if bilangan > 0:\n",
        "    print(\"Bilangan positif\")\n",
        "elif bilangan < 0:\n",
        "    print(\"Bilangan negatif\")\n",
        "else:\n",
        "    print(\"Bilangan nol\")\n"
      ],
      "metadata": {
        "colab": {
          "base_uri": "https://localhost:8080/"
        },
        "id": "7QReOebp7qm9",
        "outputId": "640f4190-8ef4-4d1d-8329-1945314e0021"
      },
      "execution_count": 2,
      "outputs": [
        {
          "output_type": "stream",
          "name": "stdout",
          "text": [
            "Masukkan bilangan: -3\n",
            "Bilangan negatif\n"
          ]
        }
      ]
    },
    {
      "cell_type": "markdown",
      "source": [
        "# Penugasan 02 - Menentukan Kategori Usia"
      ],
      "metadata": {
        "id": "I7TGlyD17d_y"
      }
    },
    {
      "cell_type": "code",
      "source": [
        "umur = int(input(\"Masukkan umur: \"))\n",
        "\n",
        "if umur < 5:\n",
        "    print(\"Balita\")\n",
        "elif umur <= 11:\n",
        "    print(\"Anak-anak\")\n",
        "elif umur <= 17:\n",
        "    print(\"Remaja\")\n",
        "elif umur <= 59:\n",
        "    print(\"Dewasa\")\n",
        "else:\n",
        "    print(\"Lansia\")\n"
      ],
      "metadata": {
        "colab": {
          "base_uri": "https://localhost:8080/"
        },
        "id": "AxM8ETCa7q_-",
        "outputId": "cc2d7bb7-c660-4d2c-b1ee-7cc958e670fb"
      },
      "execution_count": 3,
      "outputs": [
        {
          "output_type": "stream",
          "name": "stdout",
          "text": [
            "Masukkan umur: 18\n",
            "Dewasa\n"
          ]
        }
      ]
    },
    {
      "cell_type": "markdown",
      "source": [
        "# Penugasan 03 - Hitung Tarif Parkir"
      ],
      "metadata": {
        "id": "XUQUVK9d7fvw"
      }
    },
    {
      "cell_type": "code",
      "source": [
        "jam = int(input(\"Masukkan lama parkir (jam): \"))\n",
        "\n",
        "if jam <= 2:\n",
        "    tarif = 5000\n",
        "else:\n",
        "    tarif = 5000 + (jam - 2) * 2000\n",
        "\n",
        "if tarif > 20000:\n",
        "    tarif = 20000\n",
        "\n",
        "print(f\"Total tarif parkir: Rp {tarif}\")\n"
      ],
      "metadata": {
        "colab": {
          "base_uri": "https://localhost:8080/"
        },
        "id": "2izAzsNd7rtF",
        "outputId": "0172506d-0e80-4add-93e4-5185b32c6120"
      },
      "execution_count": 4,
      "outputs": [
        {
          "output_type": "stream",
          "name": "stdout",
          "text": [
            "Masukkan lama parkir (jam): 1\n",
            "Total tarif parkir: Rp 5000\n"
          ]
        }
      ]
    },
    {
      "cell_type": "markdown",
      "source": [
        "# Penugasan 04 - Cek Login Sederhana"
      ],
      "metadata": {
        "id": "hoMVWWes7i19"
      }
    },
    {
      "cell_type": "code",
      "source": [
        "username = input(\"Masukkan username: \")\n",
        "password = input(\"Masukkan password: \")\n",
        "\n",
        "if username == \"admin\" and password == \"1234\":\n",
        "    print(\"Login berhasil\")\n",
        "else:\n",
        "    print(\"Login gagal\")\n"
      ],
      "metadata": {
        "colab": {
          "base_uri": "https://localhost:8080/"
        },
        "id": "lrg0gnsr7sKx",
        "outputId": "0fb29846-e25c-4b3f-ce0a-7efaf0c3fdd5"
      },
      "execution_count": 5,
      "outputs": [
        {
          "output_type": "stream",
          "name": "stdout",
          "text": [
            "Masukkan username: admin\n",
            "Masukkan password: 1234\n",
            "Login berhasil\n"
          ]
        }
      ]
    },
    {
      "cell_type": "markdown",
      "source": [
        "# Penugasan 05 - One-Liner If (Cek Genap/Ganjil)"
      ],
      "metadata": {
        "id": "LMwrEL037kdv"
      }
    },
    {
      "cell_type": "code",
      "source": [
        "bilangan = int(input(\"Masukkan bilangan: \"))\n",
        "print(\"Genap\" if bilangan % 2 == 0 else \"Ganjil\")\n"
      ],
      "metadata": {
        "colab": {
          "base_uri": "https://localhost:8080/"
        },
        "id": "vmQr0IGz7pv4",
        "outputId": "2a8aef5b-d770-4e92-ea2a-1815739b6702"
      },
      "execution_count": 6,
      "outputs": [
        {
          "output_type": "stream",
          "name": "stdout",
          "text": [
            "Masukkan bilangan: 16\n",
            "Genap\n"
          ]
        }
      ]
    },
    {
      "cell_type": "markdown",
      "source": [
        "# Penugasan 06 - Menu Restoran dengan Match-Case"
      ],
      "metadata": {
        "id": "7GAG3SaS7l5I"
      }
    },
    {
      "cell_type": "code",
      "source": [
        "pilihan = int(input(\"Pilih menu (1-3): \"))\n",
        "\n",
        "match pilihan:\n",
        "    case 1:\n",
        "        print(\"Anda memilih Nasi Goreng\")\n",
        "    case 2:\n",
        "        print(\"Anda memilih Mie Ayam\")\n",
        "    case 3:\n",
        "        print(\"Anda memilih Soto Ayam\")\n",
        "    case _:\n",
        "        print(\"Menu tidak tersedia\")\n"
      ],
      "metadata": {
        "colab": {
          "base_uri": "https://localhost:8080/"
        },
        "id": "HI9I0XTx7so7",
        "outputId": "ac57665d-194d-4a47-fb00-130bbd3bb518"
      },
      "execution_count": 7,
      "outputs": [
        {
          "output_type": "stream",
          "name": "stdout",
          "text": [
            "Pilih menu (1-3): 2\n",
            "Anda memilih Mie Ayam\n"
          ]
        }
      ]
    },
    {
      "cell_type": "markdown",
      "source": [
        "# Penugasan 07 - Studi Kasus Nyata - Program Penentuan Diskon"
      ],
      "metadata": {
        "id": "lwjrYcn97neV"
      }
    },
    {
      "cell_type": "code",
      "source": [
        "nama_barang = input(\"Masukkan nama barang: \")\n",
        "jumlah = int(input(\"Masukkan jumlah barang: \"))\n",
        "harga = float(input(\"Masukkan harga per barang: \"))\n",
        "\n",
        "total = jumlah * harga\n",
        "\n",
        "if total >= 500000:\n",
        "    diskon = 0.2 * total\n",
        "elif total >= 250000:\n",
        "    diskon = 0.1 * total\n",
        "else:\n",
        "    diskon = 0\n",
        "\n",
        "bayar = total - diskon\n",
        "\n",
        "print(\"\\n=== STRUK BELANJA ===\")\n",
        "print(f\"Nama Barang : {nama_barang}\")\n",
        "print(f\"Jumlah      : {jumlah}\")\n",
        "print(f\"Harga       : Rp {harga:,.0f}\")\n",
        "print(f\"Total       : Rp {total:,.0f}\")\n",
        "print(f\"Diskon      : Rp {diskon:,.0f}\")\n",
        "print(f\"Jumlah Bayar: Rp {bayar:,.0f}\")\n"
      ],
      "metadata": {
        "colab": {
          "base_uri": "https://localhost:8080/"
        },
        "id": "lpjNEI217tu0",
        "outputId": "7a18682f-632f-4e5e-abed-0228fcc108fe"
      },
      "execution_count": 8,
      "outputs": [
        {
          "output_type": "stream",
          "name": "stdout",
          "text": [
            "Masukkan nama barang: Laptop\n",
            "Masukkan jumlah barang: 2\n",
            "Masukkan harga per barang: 8500000\n",
            "\n",
            "=== STRUK BELANJA ===\n",
            "Nama Barang : Laptop\n",
            "Jumlah      : 2\n",
            "Harga       : Rp 8,500,000\n",
            "Total       : Rp 17,000,000\n",
            "Diskon      : Rp 3,400,000\n",
            "Jumlah Bayar: Rp 13,600,000\n"
          ]
        }
      ]
    }
  ]
}