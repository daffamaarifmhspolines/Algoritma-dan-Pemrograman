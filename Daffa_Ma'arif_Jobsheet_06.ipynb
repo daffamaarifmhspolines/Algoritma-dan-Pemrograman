{
  "nbformat": 4,
  "nbformat_minor": 0,
  "metadata": {
    "colab": {
      "provenance": [],
      "include_colab_link": true
    },
    "kernelspec": {
      "name": "python3",
      "display_name": "Python 3"
    },
    "language_info": {
      "name": "python"
    }
  },
  "cells": [
    {
      "cell_type": "markdown",
      "metadata": {
        "id": "view-in-github",
        "colab_type": "text"
      },
      "source": [
        "<a href=\"https://colab.research.google.com/github/daffamaarifmhspolines/Algoritma-dan-Pemrograman/blob/2025-10-23/Daffa_Ma'arif_Jobsheet_06.ipynb\" target=\"_parent\"><img src=\"https://colab.research.google.com/assets/colab-badge.svg\" alt=\"Open In Colab\"/></a>"
      ]
    },
    {
      "cell_type": "markdown",
      "source": [
        "#Praktikum 01 - Membuat dan Mengakses List 1D"
      ],
      "metadata": {
        "id": "B1_AksesList"
      }
    },
    {
      "cell_type": "code",
      "execution_count": 1,
      "metadata": {
        "colab": {
          "base_uri": "https://localhost:8080/"
        },
        "id": "B1_Code",
        "outputId": "b05d8b68-3ba0-4d4d-908c-6db28e2996d7"
      },
      "outputs": [
        {
          "output_type": "stream",
          "name": "stdout",
          "text": [
            "Andi\n",
            "Budi\n",
            "Cici\n"
          ]
        }
      ],
      "source": [
        "mahasiswa = [\"Andi\", \"Budi\", \"Cici\"]\n",
        "print(mahasiswa[0])\n",
        "print(mahasiswa[1])\n",
        "print(mahasiswa[-1])"
      ]
    },
    {
      "cell_type": "markdown",
      "source": [
        "#Praktikum 02 - Update dan Operasi Dasar List"
      ],
      "metadata": {
        "id": "B2_OperasiList"
      }
    },
    {
      "cell_type": "code",
      "source": [
        "nilai = [85, 90, 78]\n",
        "nilai[1] = 95\n",
        "nilai.append(100)\n",
        "nilai.remove(78)\n",
        "print(nilai)"
      ],
      "metadata": {
        "colab": {
          "base_uri": "https://localhost:8080/"
        },
        "id": "B2_Code",
        "outputId": "f75860f8-b70c-42ba-ebfd-20feb9ad20cb"
      },
      "execution_count": 2,
      "outputs": [
        {
          "output_type": "stream",
          "name": "stdout",
          "text": [
            "[85, 95, 100]\n"
          ]
        }
      ]
    },
    {
      "cell_type": "markdown",
      "source": [
        "#Praktikum 03 - Slicing List"
      ],
      "metadata": {
        "id": "B3_Slicing"
      }
    },
    {
      "cell_type": "code",
      "source": [
        "nilai = [85, 90, 78, 92, 88]\n",
        "print(nilai[0:3])\n",
        "print(nilai[2:])\n",
        "print(nilai[:3])"
      ],
      "metadata": {
        "colab": {
          "base_uri": "https://localhost:8080/"
        },
        "id": "B3_Code",
        "outputId": "66cd8faf-2d9d-46cc-8d8e-d28bd45cd9d5"
      },
      "execution_count": 3,
      "outputs": [
        {
          "output_type": "stream",
          "name": "stdout",
          "text": [
            "[85, 90, 78]\n",
            "[78, 92, 88]\n",
            "[85, 90, 78]\n"
          ]
        }
      ]
    },
    {
      "cell_type": "markdown",
      "source": [
        "#Praktikum 04 - List 2D (Matriks)"
      ],
      "metadata": {
        "id": "B4_List2D"
      }
    },
    {
      "cell_type": "code",
      "source": [
        "matriks = [\n",
        "  [1, 2, 3],\n",
        "  [4, 5, 6],\n",
        "  [7, 8, 9]\n",
        "]\n",
        "print(matriks[0][0])\n",
        "print(matriks[1][2])\n",
        "print(matriks[2])"
      ],
      "metadata": {
        "colab": {
          "base_uri": "https://localhost:8080/"
        },
        "id": "B4_Code",
        "outputId": "e037ebc3-a05f-44a5-c494-98f3f79305a6"
      },
      "execution_count": 4,
      "outputs": [
        {
          "output_type": "stream",
          "name": "stdout",
          "text": [
            "1\n",
            "6\n",
            "[7, 8, 9]\n"
          ]
        }
      ]
    },
    {
      "cell_type": "markdown",
      "source": [
        "#Praktikum 05 - Operasi pada List 2D"
      ],
      "metadata": {
        "id": "B5_Operasi2D"
      }
    },
    {
      "cell_type": "code",
      "source": [
        "A = [[1, 2, 3],\n",
        "     [4, 5, 6]]\n",
        "B = [[7, 8, 9],\n",
        "     [10, 11, 12]]\n",
        "\n",
        "C = []\n",
        "\n",
        "for i in range(len(A)):\n",
        "  baris = []\n",
        "  for j in range(len(A[0])):\n",
        "    baris.append(A[i][j] + B[i][j])\n",
        "  C.append(baris)\n",
        "\n",
        "print(C)"
      ],
      "metadata": {
        "colab": {
          "base_uri": "https://localhost:8080/"
        },
        "id": "B5_Code",
        "outputId": "926c25b6-b9e1-40c3-f919-027c1c1c642a"
      },
      "execution_count": 5,
      "outputs": [
        {
          "output_type": "stream",
          "name": "stdout",
          "text": [
            "[[8, 10, 12], [14, 16, 18]]\n"
          ]
        }
      ]
    },
    {
      "cell_type": "markdown",
      "source": [
        "#Praktikum 06 - Studi Kasus: Pengelolaan Nilai Mahasiswa"
      ],
      "metadata": {
        "id": "B6_StudiKasus"
      }
    },
    {
      "cell_type": "code",
      "source": [
        "nilai = [\n",
        "  [80, 90, 85],\n",
        "  [70, 75, 80],\n",
        "  [88, 92, 84]\n",
        "]\n",
        "\n",
        "for i, baris in enumerate(nilai, start=1):\n",
        "  rata = sum(baris) / len(baris)\n",
        "  print(f\"Rata-rata mahasiswa {i}: {rata:.2f}\")"
      ],
      "metadata": {
        "colab": {
          "base_uri": "https://localhost:8080/"
        },
        "id": "B6_Code",
        "outputId": "b7a9ff15-12f5-4113-d955-e03ec2991aae"
      },
      "execution_count": 6,
      "outputs": [
        {
          "output_type": "stream",
          "name": "stdout",
          "text": [
            "Rata-rata mahasiswa 1: 85.00\n",
            "Rata-rata mahasiswa 2: 75.00\n",
            "Rata-rata mahasiswa 3: 88.00\n"
          ]
        }
      ]
    },
    {
      "cell_type": "markdown",
      "source": [
        "#Penugasan 01 - Akses Elemen List"
      ],
      "metadata": {
        "id": "P03_AksesElemen"
      }
    },
    {
      "cell_type": "code",
      "source": [
        "mahasiswa = [\"Ani\", \"Budi\", \"Cici\", \"Dedi\", \"Eka\"]\n",
        "print(f\"Nama pertama: {mahasiswa[0]}\")\n",
        "print(f\"Nama terakhir: {mahasiswa[-1]}\")\n",
        "print(f\"Nama indeks ke-2: {mahasiswa[2]}\")"
      ],
      "metadata": {
        "id": "P03_Code",
        "colab": {
          "base_uri": "https://localhost:8080/"
        },
        "outputId": "p03-output"
      },
      "execution_count": null,
      "outputs": [
        {
          "output_type": "stream",
          "name": "stdout",
          "text": [
            "Nama pertama: Ani\n",
            "Nama terakhir: Eka\n",
            "Nama indeks ke-2: Cici\n"
          ]
        }
      ]
    },
    {
      "cell_type": "markdown",
      "source": [
        "#Penugasan 02 - Operasi Dasar List"
      ],
      "metadata": {
        "id": "P04_OperasiDasar"
      }
    },
    {
      "cell_type": "code",
      "source": [
        "nilai = [70, 75, 80]\n",
        "print(f\"List awal: {nilai}\")\n",
        "nilai[1] = 85\n",
        "nilai.append(90)\n",
        "nilai.remove(70)\n",
        "print(f\"List akhir: {nilai}\")"
      ],
      "metadata": {
        "id": "P04_Code",
        "colab": {
          "base_uri": "https://localhost:8080/"
        },
        "outputId": "817e5452-b126-4406-b5fc-83463d311647"
      },
      "execution_count": 7,
      "outputs": [
        {
          "output_type": "stream",
          "name": "stdout",
          "text": [
            "List awal: [70, 75, 80]\n",
            "List akhir: [85, 80, 90]\n"
          ]
        }
      ]
    },
    {
      "cell_type": "markdown",
      "source": [
        "#Penugasan 03 - Slicing List"
      ],
      "metadata": {
        "id": "P05_Slicing"
      }
    },
    {
      "cell_type": "code",
      "source": [
        "angka = list(range(1, 11))\n",
        "print(f\"List angka: {angka}\")\n",
        "print(f\"3 elemen pertama: {angka[:3]}\")\n",
        "print(f\"4 elemen terakhir: {angka[-4:]}\")\n",
        "print(f\"Indeks genap: {angka[::2]}\")"
      ],
      "metadata": {
        "id": "P05_Code",
        "colab": {
          "base_uri": "https://localhost:8080/"
        },
        "outputId": "1ba33ff6-df6a-4609-be45-64c618b28654"
      },
      "execution_count": 8,
      "outputs": [
        {
          "output_type": "stream",
          "name": "stdout",
          "text": [
            "List angka: [1, 2, 3, 4, 5, 6, 7, 8, 9, 10]\n",
            "3 elemen pertama: [1, 2, 3]\n",
            "4 elemen terakhir: [7, 8, 9, 10]\n",
            "Indeks genap: [1, 3, 5, 7, 9]\n"
          ]
        }
      ]
    },
    {
      "cell_type": "markdown",
      "source": [
        "#Penugasan 04 - List 2D - Matriks"
      ],
      "metadata": {
        "id": "P06_Matriks"
      }
    },
    {
      "cell_type": "code",
      "source": [
        "matriks = [\n",
        "  [1, 2, 3],\n",
        "  [4, 5, 6]\n",
        "]\n",
        "print(f\"Baris 1, Kolom 2: {matriks[0][1]}\")\n",
        "print(f\"Baris 2, Kolom 3: {matriks[1][2]}\")\n",
        "print(f\"Seluruh baris 1: {matriks[0]}\")"
      ],
      "metadata": {
        "id": "P06_Code",
        "colab": {
          "base_uri": "https://localhost:8080/"
        },
        "outputId": "5205f017-3b7d-4d48-c700-bd66aad5450c"
      },
      "execution_count": 9,
      "outputs": [
        {
          "output_type": "stream",
          "name": "stdout",
          "text": [
            "Baris 1, Kolom 2: 2\n",
            "Baris 2, Kolom 3: 6\n",
            "Seluruh baris 1: [1, 2, 3]\n"
          ]
        }
      ]
    },
    {
      "cell_type": "markdown",
      "source": [
        "#Penugasan 05 - Operasi Matriks 2D"
      ],
      "metadata": {
        "id": "P07_OperasiMatriks"
      }
    },
    {
      "cell_type": "code",
      "source": [
        "A = [[1, 2],\n",
        "     [3, 4]]\n",
        "B = [[5, 6],\n",
        "     [7, 8]]\n",
        "\n",
        "C = [[0, 0],\n",
        "     [0, 0]]\n",
        "\n",
        "for i in range(len(A)):\n",
        "  for j in range(len(A[0])):\n",
        "    C[i][j] = A[i][j] + B[i][j]\n",
        "\n",
        "print(\"Matriks A:\", A)\n",
        "print(\"Matriks B:\", B)\n",
        "print(\"Hasil Penjumlahan:\", C)"
      ],
      "metadata": {
        "id": "P07_Code",
        "colab": {
          "base_uri": "https://localhost:8080/"
        },
        "outputId": "795cb384-d169-47ed-9519-dccd66faa0b5"
      },
      "execution_count": 10,
      "outputs": [
        {
          "output_type": "stream",
          "name": "stdout",
          "text": [
            "Matriks A: [[1, 2], [3, 4]]\n",
            "Matriks B: [[5, 6], [7, 8]]\n",
            "Hasil Penjumlahan: [[6, 8], [10, 12]]\n"
          ]
        }
      ]
    },
    {
      "cell_type": "markdown",
      "source": [
        "#Penugasan 06 - Rata-rata Nilai Mahasiswa"
      ],
      "metadata": {
        "id": "P08_RataRata"
      }
    },
    {
      "cell_type": "code",
      "source": [
        "nilai = [[75, 80, 85], [60, 70, 65], [90, 95, 92]]\n",
        "\n",
        "for i, baris in enumerate(nilai, start=1):\n",
        "  rata = sum(baris) / len(baris)\n",
        "  print(f\"Rata-rata mahasiswa {i}: {rata:.2f}\")"
      ],
      "metadata": {
        "id": "P08_Code",
        "colab": {
          "base_uri": "https://localhost:8080/"
        },
        "outputId": "p08-output"
      },
      "execution_count": null,
      "outputs": [
        {
          "output_type": "stream",
          "name": "stdout",
          "text": [
            "Rata-rata mahasiswa 1: 80.00\n",
            "Rata-rata mahasiswa 2: 65.00\n",
            "Rata-rata mahasiswa 3: 92.33\n"
          ]
        }
      ]
    },
    {
      "cell_type": "markdown",
      "source": [
        "#Penugasan 07 - Studi Kasus - Data Toko"
      ],
      "metadata": {
        "id": "P09_DataToko"
      }
    },
    {
      "cell_type": "code",
      "source": [
        "stok = [[\"Buku\", 20], [\"Pulpen\", 35], [\"Penghapus\", 15]]\n",
        "\n",
        "print(\"Daftar Stok Barang:\")\n",
        "stok_terbanyak = 0\n",
        "barang_terbanyak = \"\"\n",
        "\n",
        "for item in stok:\n",
        "  barang = item[0]\n",
        "  jumlah = item[1]\n",
        "  print(f\"- {barang}: {jumlah}\")\n",
        "\n",
        "  if jumlah > stok_terbanyak:\n",
        "    stok_terbanyak = jumlah\n",
        "    barang_terbanyak = barang\n",
        "\n",
        "print(f\"\\nBarang dengan stok terbanyak: {barang_terbanyak} ({stok_terbanyak})\")"
      ],
      "metadata": {
        "id": "P09_Code",
        "colab": {
          "base_uri": "https://localhost:8080/"
        },
        "outputId": "c19ac021-3c07-473f-c272-5ed5a330b2ee"
      },
      "execution_count": 11,
      "outputs": [
        {
          "output_type": "stream",
          "name": "stdout",
          "text": [
            "Daftar Stok Barang:\n",
            "- Buku: 20\n",
            "- Pulpen: 35\n",
            "- Penghapus: 15\n",
            "\n",
            "Barang dengan stok terbanyak: Pulpen (35)\n"
          ]
        }
      ]
    }
  ]
}